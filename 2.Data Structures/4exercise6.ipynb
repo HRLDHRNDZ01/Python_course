{
 "cells": [
  {
   "cell_type": "code",
   "execution_count": 1,
   "metadata": {},
   "outputs": [],
   "source": [
    "prices = [\"a\", \"b\", \"9\", \"c\", \"d\", \"FOUR\", \"e\", \"f\", \"2.5\"]\n",
    "sentence = \"\"\"The bill for the {}#!/,?? {}#!/ ??and drink came to {\n",
    "}??\"\"\""
   ]
  },
  {
   "cell_type": "code",
   "execution_count": 3,
   "metadata": {},
   "outputs": [
    {
     "data": {
      "text/plain": [
       "['9', 'FOUR', '2.5']"
      ]
     },
     "execution_count": 3,
     "metadata": {},
     "output_type": "execute_result"
    }
   ],
   "source": [
    "prices = [\"a\", \"b\", \"9\", \"c\", \"d\", \"FOUR\", \"e\", \"f\", \"2.5\"]\n",
    "item = prices[2::3]\n",
    "\n",
    "item"
   ]
  },
  {
   "cell_type": "code",
   "execution_count": 5,
   "metadata": {},
   "outputs": [],
   "source": [
    "pizza = eval(item[0])\n",
    "chips = len(item[1])\n",
    "drink = eval(item[2])\n"
   ]
  },
  {
   "cell_type": "code",
   "execution_count": 7,
   "metadata": {},
   "outputs": [
    {
     "data": {
      "text/plain": [
       "'The bill for the pizza, chips and drink came to $15.5'"
      ]
     },
     "execution_count": 7,
     "metadata": {},
     "output_type": "execute_result"
    }
   ],
   "source": [
    "sentence = \"\"\"The bill for the #!/{},?? {}#!/ ??and drink came to {}??\"\"\".format(\"pizza\", \"chips\", \"$\" + str(pizza + chips + drink)).replace(\"#!/\",\n",
    "\"\").\\\n",
    "replace(\"??\", \"\")\n",
    "sentence"
   ]
  }
 ],
 "metadata": {
  "kernelspec": {
   "display_name": "Python 3",
   "language": "python",
   "name": "python3"
  },
  "language_info": {
   "codemirror_mode": {
    "name": "ipython",
    "version": 3
   },
   "file_extension": ".py",
   "mimetype": "text/x-python",
   "name": "python",
   "nbconvert_exporter": "python",
   "pygments_lexer": "ipython3",
   "version": "3.11.5"
  }
 },
 "nbformat": 4,
 "nbformat_minor": 2
}
