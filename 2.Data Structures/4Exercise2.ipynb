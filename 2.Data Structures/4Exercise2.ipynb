{
 "cells": [
  {
   "cell_type": "code",
   "execution_count": 19,
   "metadata": {},
   "outputs": [
    {
     "data": {
      "text/plain": [
       "'\\nquestions = [10 4, 50 50, 90 10, \"c\" (\"a\", \"b\", \"c\"), 100 100]\\n!=\\n==\\nin\\nDESIRED OUTPUT</font>\\n[True, True, False, True, False]\\n'"
      ]
     },
     "execution_count": 19,
     "metadata": {},
     "output_type": "execute_result"
    }
   ],
   "source": [
    "\"\"\"\n",
    "questions = [10 4, 50 50, 90 10, \"c\" (\"a\", \"b\", \"c\"), 100 100]\n",
    "!=\n",
    "==\n",
    "in\n",
    "DESIRED OUTPUT</font>\n",
    "[True, True, False, True, False]\n",
    "\"\"\""
   ]
  },
  {
   "cell_type": "code",
   "execution_count": 20,
   "metadata": {},
   "outputs": [
    {
     "data": {
      "text/plain": [
       "[True, True, False, True, False]"
      ]
     },
     "execution_count": 20,
     "metadata": {},
     "output_type": "execute_result"
    }
   ],
   "source": [
    "questions = [10 != 4,50 == 50,90 == 10,\"c\" in (\"a\", \"b\", \"c\"), 100 != 100]\n",
    "\n",
    "questions"
   ]
  }
 ],
 "metadata": {
  "kernelspec": {
   "display_name": "Python 3",
   "language": "python",
   "name": "python3"
  },
  "language_info": {
   "codemirror_mode": {
    "name": "ipython",
    "version": 3
   },
   "file_extension": ".py",
   "mimetype": "text/x-python",
   "name": "python",
   "nbconvert_exporter": "python",
   "pygments_lexer": "ipython3",
   "version": "3.11.5"
  }
 },
 "nbformat": 4,
 "nbformat_minor": 2
}
