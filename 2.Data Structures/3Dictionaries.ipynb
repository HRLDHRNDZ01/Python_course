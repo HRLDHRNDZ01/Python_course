{
 "cells": [
  {
   "cell_type": "code",
   "execution_count": 42,
   "metadata": {},
   "outputs": [
    {
     "data": {
      "text/plain": [
       "{'H': 20, 'D': 25, 'M': 30, 'I': 35}"
      ]
     },
     "execution_count": 42,
     "metadata": {},
     "output_type": "execute_result"
    }
   ],
   "source": [
    "d1 = {}\n",
    "d1\n",
    "d1[\"H\"] = 20\n",
    "d1[\"D\"] = 25\n",
    "d1[\"M\"] = 30\n",
    "d1[\"I\"] = 35\n",
    "d1"
   ]
  },
  {
   "cell_type": "code",
   "execution_count": 38,
   "metadata": {},
   "outputs": [
    {
     "data": {
      "text/plain": [
       "{'H': 23, 'D': 25, 'M': 30, 'I': 35, 'Robot': 'P250.00 ', 'Car': 'P200:00'}"
      ]
     },
     "execution_count": 38,
     "metadata": {},
     "output_type": "execute_result"
    }
   ],
   "source": [
    "toys = {\"Robot\": \"P250.00 \", \"Car\":\"P200:00\"}\n",
    "toys\n",
    "\n",
    "d1.update(toys) # add two dictionaries using update data type\n",
    "d1\n",
    "\n",
    "d1[\"H\"] = 23 #updating the 20 valuse into 23 in dictionary\n",
    "d1"
   ]
  },
  {
   "cell_type": "code",
   "execution_count": 41,
   "metadata": {},
   "outputs": [],
   "source": [
    "toys.clear() #cleaing inside toy dictionary\n",
    "toys\n",
    "\n",
    "d1.clear() #cleaing inside d1 dictionary\n"
   ]
  },
  {
   "cell_type": "code",
   "execution_count": 39,
   "metadata": {},
   "outputs": [
    {
     "data": {
      "text/plain": [
       "[10, 30, 300]"
      ]
     },
     "execution_count": 39,
     "metadata": {},
     "output_type": "execute_result"
    }
   ],
   "source": [
    "mylist = [20, 30]\n",
    "mylist[0] = 10\n",
    "mylist.append(300)\n",
    "mylist"
   ]
  },
  {
   "cell_type": "code",
   "execution_count": 52,
   "metadata": {},
   "outputs": [
    {
     "data": {
      "text/plain": [
       "{'H': 20, 'D': 25, 'M': 30}"
      ]
     },
     "execution_count": 52,
     "metadata": {},
     "output_type": "execute_result"
    }
   ],
   "source": [
    "d1.pop(\"I\") # removing I fron the list of dictioanry\n",
    "d1"
   ]
  },
  {
   "cell_type": "code",
   "execution_count": 74,
   "metadata": {},
   "outputs": [
    {
     "data": {
      "text/plain": [
       "'P200:00'"
      ]
     },
     "execution_count": 74,
     "metadata": {},
     "output_type": "execute_result"
    }
   ],
   "source": [
    "toys = {\"Robot\": \"P250.00 \", \"Car\":\"P200:00\"}\n",
    "toys\n",
    "toys.values() # show all the values from this dictionary\n",
    "\n",
    "list(toys.values())[1] # convert this toys dictionary into tuple or list for indexing\n",
    " "
   ]
  },
  {
   "cell_type": "code",
   "execution_count": 76,
   "metadata": {},
   "outputs": [
    {
     "data": {
      "text/plain": [
       "'Car'"
      ]
     },
     "execution_count": 76,
     "metadata": {},
     "output_type": "execute_result"
    }
   ],
   "source": [
    "toys.keys()\n",
    "\n",
    "tuple(toys.keys())[1] #convert into tuple for indexing\\\n"
   ]
  },
  {
   "cell_type": "code",
   "execution_count": 89,
   "metadata": {},
   "outputs": [
    {
     "data": {
      "text/plain": [
       "dict"
      ]
     },
     "execution_count": 89,
     "metadata": {},
     "output_type": "execute_result"
    }
   ],
   "source": [
    "d1.update(toys)\n",
    "list(d1.items())\n"
   ]
  },
  {
   "cell_type": "code",
   "execution_count": 90,
   "metadata": {},
   "outputs": [],
   "source": [
    "nba = [(\"Curry\", 95, \"James\", 97)]\n"
   ]
  },
  {
   "cell_type": "code",
   "execution_count": 93,
   "metadata": {},
   "outputs": [
    {
     "data": {
      "text/plain": [
       "{'Jordan': {'H': 20, 'D': 25, 'M': 30, 'Robot': 'P250.00 ', 'Car': 'P200:00'},\n",
       " 'Johnson': [1, 2, 3, 4, 5],\n",
       " 'West': ('Im the logo',\n",
       "  [6, 7, {'Rings': ['1970', '1971', '1972', 'Display me']}])}"
      ]
     },
     "execution_count": 93,
     "metadata": {},
     "output_type": "execute_result"
    }
   ],
   "source": [
    "#puting dictionary inside dictionary, with a list, and tuple with list inside of it and dictiomary inside list\n",
    "legend = {\"Jordan\": d1,\n",
    "          \"Johnson\": [1,2,3,4,5],\n",
    "          \"West\": (\"Im the logo\", [6,7, {\"Rings\":[\"1970\", \"1971\", \"1972\", \"Display me\"] }])}\n",
    "\n",
    "legend"
   ]
  },
  {
   "cell_type": "code",
   "execution_count": 101,
   "metadata": {},
   "outputs": [
    {
     "data": {
      "text/plain": [
       "'Display me'"
      ]
     },
     "execution_count": 101,
     "metadata": {},
     "output_type": "execute_result"
    }
   ],
   "source": [
    "legend[\"West\"][1][2][\"Rings\"][3] \n",
    "#displaying the specifc value inside the dictionary that stores inside the list that is inside the tuple in value of \"West\""
   ]
  }
 ],
 "metadata": {
  "kernelspec": {
   "display_name": "Python 3",
   "language": "python",
   "name": "python3"
  },
  "language_info": {
   "codemirror_mode": {
    "name": "ipython",
    "version": 3
   },
   "file_extension": ".py",
   "mimetype": "text/x-python",
   "name": "python",
   "nbconvert_exporter": "python",
   "pygments_lexer": "ipython3",
   "version": "3.11.5"
  }
 },
 "nbformat": 4,
 "nbformat_minor": 2
}
