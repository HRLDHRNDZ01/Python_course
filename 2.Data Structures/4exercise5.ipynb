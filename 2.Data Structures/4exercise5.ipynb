{
 "cells": [
  {
   "cell_type": "code",
   "execution_count": 1,
   "metadata": {},
   "outputs": [
    {
     "data": {
      "text/plain": [
       "'\\nWORK WITH\\nnest1 = [(1,2,3), {\"k1\": [8, 1, 300, 2, 77], \"k2\": [10,20,30]}, [\"a\",\\n\"500\", \"c\"]]\\nsorted()\\nTrue\\nOut[151]:\\n17\\nOut[153]:\\n{0: \\'embryo\\',\\n1: \\'fetus\\',\\n2: \\'baby\\',\\n3: \\'infant\\',\\n4: \\'teen\\',\\n5: \\'adult\\',\\n6: \\'big kid!\\'}\\neval()\\nDESIRED OUTPUT</font>\\n833.0\\nHINTS?\\n1. Add 3, 300, 30 and 500 together from each of the nested tuples, dictionaries or lists.\\n2. Use only the two built-in python functions shown above.\\n3. Use the Python built-in function, sorted for \"k1\".\\n4. For the nested dictionary,\"k1\", index only by -1, not 2.\\n5. Use the float.\\n'"
      ]
     },
     "execution_count": 1,
     "metadata": {},
     "output_type": "execute_result"
    }
   ],
   "source": [
    "'''\n",
    "WORK WITH\n",
    "nest1 = [(1,2,3), {\"k1\": [8, 1, 300, 2, 77], \"k2\": [10,20,30]}, [\"a\",\n",
    "\"500\", \"c\"]]\n",
    "sorted()\n",
    "True\n",
    "Out[151]:\n",
    "17\n",
    "Out[153]:\n",
    "{0: 'embryo',\n",
    "1: 'fetus',\n",
    "2: 'baby',\n",
    "3: 'infant',\n",
    "4: 'teen',\n",
    "5: 'adult',\n",
    "6: 'big kid!'}\n",
    "eval()\n",
    "DESIRED OUTPUT</font>\n",
    "833.0\n",
    "HINTS?\n",
    "1. Add 3, 300, 30 and 500 together from each of the nested tuples, dictionaries or lists.\n",
    "2. Use only the two built-in python functions shown above.\n",
    "3. Use the Python built-in function, sorted for \"k1\".\n",
    "4. For the nested dictionary,\"k1\", index only by -1, not 2.\n",
    "5. Use the float.\n",
    "'''"
   ]
  },
  {
   "cell_type": "code",
   "execution_count": 3,
   "metadata": {},
   "outputs": [
    {
     "data": {
      "text/plain": [
       "[(1, 2, 3), {'k1': [8, 1, 300, 2, 77], 'k2': [10, 20, 30]}, ['a', '500', 'c']]"
      ]
     },
     "execution_count": 3,
     "metadata": {},
     "output_type": "execute_result"
    }
   ],
   "source": [
    "nest1 = [(1,2,3), {\"k1\": [8, 1, 300, 2, 77], \"k2\": [10,20,30]}, [\"a\",\n",
    "\"500\", \"c\"]]\n",
    "\n",
    "nest1"
   ]
  }
 ],
 "metadata": {
  "kernelspec": {
   "display_name": "Python 3",
   "language": "python",
   "name": "python3"
  },
  "language_info": {
   "codemirror_mode": {
    "name": "ipython",
    "version": 3
   },
   "file_extension": ".py",
   "mimetype": "text/x-python",
   "name": "python",
   "nbconvert_exporter": "python",
   "pygments_lexer": "ipython3",
   "version": "3.11.5"
  }
 },
 "nbformat": 4,
 "nbformat_minor": 2
}
