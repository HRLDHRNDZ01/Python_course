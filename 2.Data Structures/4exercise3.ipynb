{
 "cells": [
  {
   "cell_type": "code",
   "execution_count": 3,
   "metadata": {},
   "outputs": [
    {
     "data": {
      "text/plain": [
       "'\\nWORK WITH\\nfilms = {\"k1\": \"blade runner\", \"k2\": \"matrix\", \"k3\": \"terminator\"}\\n<\\n>\\nlen()\\nDESIRED OUTPUT</font>\\nTrue\\n'"
      ]
     },
     "execution_count": 3,
     "metadata": {},
     "output_type": "execute_result"
    }
   ],
   "source": [
    "'''\n",
    "WORK WITH\n",
    "films = {\"k1\": \"blade runner\", \"k2\": \"matrix\", \"k3\": \"terminator\"}\n",
    "<\n",
    ">\n",
    "len()\n",
    "DESIRED OUTPUT</font>\n",
    "True\n",
    "'''"
   ]
  },
  {
   "cell_type": "code",
   "execution_count": 5,
   "metadata": {},
   "outputs": [
    {
     "data": {
      "text/plain": [
       "{'k1': 'blade runner', 'k2': 'matrix', 'k3': 'terminator'}"
      ]
     },
     "execution_count": 5,
     "metadata": {},
     "output_type": "execute_result"
    }
   ],
   "source": [
    "films = {\"k1\": \"blade runner\", \"k2\": \"matrix\", \"k3\": \"terminator\"}\n",
    "\n",
    "films"
   ]
  },
  {
   "cell_type": "code",
   "execution_count": 7,
   "metadata": {},
   "outputs": [
    {
     "data": {
      "text/plain": [
       "True"
      ]
     },
     "execution_count": 7,
     "metadata": {},
     "output_type": "execute_result"
    }
   ],
   "source": [
    "len((films[\"k1\"])) > len((films[\"k2\"])) < len((films[\"k3\"]))"
   ]
  }
 ],
 "metadata": {
  "kernelspec": {
   "display_name": "Python 3",
   "language": "python",
   "name": "python3"
  },
  "language_info": {
   "codemirror_mode": {
    "name": "ipython",
    "version": 3
   },
   "file_extension": ".py",
   "mimetype": "text/x-python",
   "name": "python",
   "nbconvert_exporter": "python",
   "pygments_lexer": "ipython3",
   "version": "3.11.5"
  }
 },
 "nbformat": 4,
 "nbformat_minor": 2
}
