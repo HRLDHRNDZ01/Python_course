{
 "cells": [
  {
   "cell_type": "code",
   "execution_count": 2,
   "metadata": {},
   "outputs": [
    {
     "data": {
      "text/plain": [
       "'\\nWORK WITH\\nlife_stages = {0: \"embryo\", 1: \"fetus\", 2:\"baby\", 3:\"infant\",4: \"teen\"}\\nDESIRED OUTPUT</font>\\n{0: \\'embryo\\', 1: \\'fetus\\', 2: \\'baby\\', 3: \\'infant\\', 4: \\'teen\\', 5: \\'adult\\', 6: \\'big kid!\\'}\\n'"
      ]
     },
     "execution_count": 2,
     "metadata": {},
     "output_type": "execute_result"
    }
   ],
   "source": [
    "'''\n",
    "WORK WITH\n",
    "life_stages = {0: \"embryo\", 1: \"fetus\", 2:\"baby\", 3:\"infant\",4: \"teen\"}\n",
    "DESIRED OUTPUT</font>\n",
    "{0: 'embryo', 1: 'fetus', 2: 'baby', 3: 'infant', 4: 'teen', 5: 'adult', 6: 'big kid!'}\n",
    "'''"
   ]
  },
  {
   "cell_type": "code",
   "execution_count": 6,
   "metadata": {},
   "outputs": [
    {
     "data": {
      "text/plain": [
       "{0: 'embryo', 1: 'fetus', 2: 'baby', 3: 'infant', 4: 'teen'}"
      ]
     },
     "execution_count": 6,
     "metadata": {},
     "output_type": "execute_result"
    }
   ],
   "source": [
    "life_stages = {0: \"embryo\", 1: \"fetus\", 2:\"baby\", 3:\"infant\",4: \"teen\"}\n",
    "\n",
    "type(life_stages)\n",
    "\n",
    "life_stages"
   ]
  },
  {
   "cell_type": "code",
   "execution_count": null,
   "metadata": {},
   "outputs": [],
   "source": [
    "'''\n",
    "HINTS?\n",
    "1. Create a new dictionary called midlife, with keys 5 and 6, and key values \"adult\" and \"big\n",
    "kid!\".\n",
    "2. Add midlife dictionary to life_stages using one of the dictionary methods\n",
    "'''"
   ]
  },
  {
   "cell_type": "code",
   "execution_count": 9,
   "metadata": {},
   "outputs": [
    {
     "data": {
      "text/plain": [
       "dict"
      ]
     },
     "execution_count": 9,
     "metadata": {},
     "output_type": "execute_result"
    }
   ],
   "source": [
    "midlife = {5: \"adult\", 6: \"big\"}\n",
    "\n",
    "type(midlife)   "
   ]
  },
  {
   "cell_type": "code",
   "execution_count": 11,
   "metadata": {},
   "outputs": [
    {
     "data": {
      "text/plain": [
       "{0: 'embryo',\n",
       " 1: 'fetus',\n",
       " 2: 'baby',\n",
       " 3: 'infant',\n",
       " 4: 'teen',\n",
       " 5: 'adult',\n",
       " 6: 'big'}"
      ]
     },
     "execution_count": 11,
     "metadata": {},
     "output_type": "execute_result"
    }
   ],
   "source": [
    "life_stages.update(midlife)\n",
    "\n",
    "life_stages"
   ]
  }
 ],
 "metadata": {
  "kernelspec": {
   "display_name": "Python 3",
   "language": "python",
   "name": "python3"
  },
  "language_info": {
   "codemirror_mode": {
    "name": "ipython",
    "version": 3
   },
   "file_extension": ".py",
   "mimetype": "text/x-python",
   "name": "python",
   "nbconvert_exporter": "python",
   "pygments_lexer": "ipython3",
   "version": "3.11.5"
  }
 },
 "nbformat": 4,
 "nbformat_minor": 2
}
