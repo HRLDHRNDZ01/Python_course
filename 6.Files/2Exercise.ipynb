{
 "cells": [
  {
   "cell_type": "markdown",
   "id": "828e7a90-882a-4e2d-8077-cb967a6ce2ee",
   "metadata": {},
   "source": [
    "TASK 1: COMPARE TWO TXT FILES\n",
    "WORK WITH \n",
    "DESIRED OUTPUT\n",
    "True\n",
    "False\n",
    "False\n",
    "True\n",
    "True\n",
    "True\n",
    "HINTS?\n",
    "1. Use a for loop with range\n",
    "2. Use a comparison operator\n",
    "3. Use control flow that prints either True or False.\n",
    "4. You should have no more than 5 lines of code, but 11 is acceptable.\n",
    "5. Use a print statement with a for loop\n",
    "6. Make sure to use the close method for both txt files"
   ]
  },
  {
   "cell_type": "code",
   "execution_count": 5,
   "id": "e85addea-15d2-45aa-b106-ffa711c16e01",
   "metadata": {},
   "outputs": [],
   "source": [
    "d = open(\"rain.txt\", \"w\")\n",
    "d.write(\"Hi\")\n",
    "d.write(\"\\nfood is hot\"*2)\n",
    "d.write(\"\\nsunny day\"*4)\n",
    "d.close()\n",
    "e = open(\"cloud.txt\", \"w\")\n",
    "e.write(\"Hi\")\n",
    "e.write(\"\\nfood is cold\"*2)\n",
    "e.write(\"\\nsunny day\"*4)\n",
    "e.close()"
   ]
  },
  {
   "cell_type": "code",
   "execution_count": 7,
   "id": "324dfc4b-bc78-4e2c-844a-03f4787403d5",
   "metadata": {},
   "outputs": [
    {
     "name": "stdout",
     "output_type": "stream",
     "text": [
      "True\n",
      "False\n",
      "False\n",
      "True\n",
      "True\n",
      "True\n"
     ]
    }
   ],
   "source": [
    "a = open(\"rain.txt\", \"r\")\n",
    "b = open(\"cloud.txt\", \"r\")\n",
    "\n",
    "day = a.readlines()\n",
    "night = b.readlines()\n",
    "\n",
    "for i in range(6):\n",
    "    if day[i] == night[i]:\n",
    "        print(\"True\")\n",
    "    else:\n",
    "        print(\"False\")\n",
    "\n",
    "a.close()\n",
    "b.close()"
   ]
  },
  {
   "cell_type": "markdown",
   "id": "fc3201a3-7fa9-46e0-b38b-36d38b4c5b1f",
   "metadata": {},
   "source": [
    "TASK 2: THREE INPUTS FOR THREE TXT FILES\n",
    "WORK WITH\n",
    "DESIRED OUTPUT\n",
    "add text: blue\n",
    "add text: blue\n",
    "add text: green\n",
    "add text: red\n",
    "For each txt file has the following text:\n",
    "- morning.txt:\n",
    "- game\n",
    "- win\n",
    "- evening.txt:\n",
    "- game\n",
    "- lose\n",
    "- night.txt:\n",
    "- game\n",
    "- draw\n",
    "HINTS?\n",
    "1. Use a for loop with a len in range.\n",
    "2. Use the \"a\" mode for appending new lines.\n",
    "3. Make sure you always have the close() method at the end if using open."
   ]
  },
  {
   "cell_type": "code",
   "execution_count": 13,
   "id": "0efd6b55-3e1a-44e3-9d04-bddd3bd123d3",
   "metadata": {},
   "outputs": [
    {
     "name": "stdin",
     "output_type": "stream",
     "text": [
      "add text:  win\n",
      "add text:  draw\n",
      "add text:  lose\n"
     ]
    }
   ],
   "source": [
    "files = [\"morning\", \"evening\", \"night\"]\n",
    "for loop in range (len(files)):\n",
    "    d = open(files[loop] + \".txt\", \"w\")\n",
    "    d.write(\"game\")\n",
    "    d.close()\n",
    "    num = input(\"add text: \")\n",
    "    d = open(files[loop] + \".txt\", \"a\")\n",
    "    d.write(\"\\n\" + num)\n",
    "    d.close()"
   ]
  },
  {
   "cell_type": "markdown",
   "id": "cf182450-6a04-4e37-95cc-56bfd8d95cd6",
   "metadata": {},
   "source": [
    "TASK 3: FILTER OUT WORDS BASED ON LENGTH\n",
    "WORK WITH\n",
    "DESIRED OUTPUT\n",
    "['python', 'udemy', 'jupyter']\n",
    "HINTS?\n",
    "1. Use with open for the \"count.txt\" file as comp.\n",
    "2. Read the lines of the txt file, and use the len, join, replace and split methods.\n",
    "3. for loop in list comprehension where you check the length of each word >= 5 and <= 7.\n",
    "4. Use an if statement."
   ]
  },
  {
   "cell_type": "code",
   "execution_count": 20,
   "id": "79faeeaf-5100-46bf-811b-85cb45c91fc6",
   "metadata": {},
   "outputs": [
    {
     "data": {
      "text/plain": [
       "['python', 'udemy', 'jupyter']"
      ]
     },
     "execution_count": 20,
     "metadata": {},
     "output_type": "execute_result"
    }
   ],
   "source": [
    "w = open(\"count.txt\", \"w\")\n",
    "w.write(\"\"\"computer\\n\n",
    "python\\n\n",
    "udemy\\n\n",
    "intelligence\\n\n",
    "universal\\n\n",
    "jupyter\\n\n",
    "java\\n\n",
    "javascript\\n\"\"\")\n",
    "w.close()\n",
    "\n",
    "with open(\"count.txt\", \"r+\") as comp:\n",
    "    g = \"\".join(comp.readlines())\n",
    "g2 = g.replace(\"\\n\\n\", \" \").split()\n",
    "\n",
    "[i for i in g2 if len(i) >= 5 and len(i) <= 7]"
   ]
  },
  {
   "cell_type": "code",
   "execution_count": null,
   "id": "22ca6367-5abf-4625-b601-6329c5e78c23",
   "metadata": {},
   "outputs": [],
   "source": []
  }
 ],
 "metadata": {
  "kernelspec": {
   "display_name": "Python 3 (ipykernel)",
   "language": "python",
   "name": "python3"
  },
  "language_info": {
   "codemirror_mode": {
    "name": "ipython",
    "version": 3
   },
   "file_extension": ".py",
   "mimetype": "text/x-python",
   "name": "python",
   "nbconvert_exporter": "python",
   "pygments_lexer": "ipython3",
   "version": "3.11.5"
  }
 },
 "nbformat": 4,
 "nbformat_minor": 5
}
