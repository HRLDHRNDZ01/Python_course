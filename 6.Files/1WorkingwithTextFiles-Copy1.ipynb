{
 "cells": [
  {
   "cell_type": "markdown",
   "id": "6716fb86-7cce-45cf-869f-d3f363ee3ae5",
   "metadata": {},
   "source": [
    "Text Files are built-in Python feature. No import modules required.\n",
    "Text Files have the .txt format\n",
    "Use either open or with open to either write or read the text files:\n",
    "\"w\" for writing\n",
    "\"r\" for reading\n",
    "\"r+\" for voth reading and writing\n",
    "\"a\" appending for new lines"
   ]
  },
  {
   "cell_type": "code",
   "execution_count": 65,
   "id": "eb893fb4-eca1-4aec-9010-261c9cc5e07e",
   "metadata": {},
   "outputs": [],
   "source": [
    "# Define the file path --> desk = \"C:/Users/ITD-DABED/Documents/VS Code/Python/6.Files\"\n",
    "\n",
    "\n",
    "f = open(desk + \"first.txt\", \"w\")# Open a file in write mode and write initial content\n",
    "f.write(\"First text file using Python!\")\n",
    "f.write(\"\\nHello World!\")\n",
    "\n",
    "f.close()"
   ]
  },
  {
   "cell_type": "code",
   "execution_count": 66,
   "id": "a6f5ea25-3684-4050-bd62-7ec485f45fa3",
   "metadata": {},
   "outputs": [],
   "source": [
    "# Open the same file in append mode and add new content\n",
    "f1 = open(desk + \"first.txt\", \"a\")\n",
    "f1.write(\"\\nNew World\")\n",
    "f1.close()"
   ]
  },
  {
   "cell_type": "code",
   "execution_count": 67,
   "id": "82da5efc-d75e-4ff2-ba49-419534991350",
   "metadata": {},
   "outputs": [],
   "source": [
    "# Open the same file in append mode using 'with' statement\n",
    "with open(desk + \"first.txt\", \"a\") as b:\n",
    "    b.write(\"\\nLuffy\")"
   ]
  },
  {
   "cell_type": "code",
   "execution_count": 68,
   "id": "8b4711fc-f6db-426a-bcab-f8d5c1300808",
   "metadata": {},
   "outputs": [
    {
     "name": "stdout",
     "output_type": "stream",
     "text": [
      "First text file using Python!\n",
      "Hello World!\n",
      "New World\n",
      "Luffy\n"
     ]
    }
   ],
   "source": [
    "# Open the file in read mode and print its content\n",
    "f2 = open(desk + \"first.txt\", \"r\")\n",
    "\n",
    "print(f2.read())\n",
    "\n",
    "f2.close()"
   ]
  },
  {
   "cell_type": "code",
   "execution_count": 69,
   "id": "075fdf7c-14c1-446d-bc64-b3e3bf7c67e3",
   "metadata": {},
   "outputs": [],
   "source": [
    "# Define a list of food items and the path pattern for the new files\n",
    "food = [\"ice cream\", \"cake\", \"chcolate\"]\n",
    "path = \"C:/Users/ITD-DABED/Documents/VS Code/Python\\FILE_{}/second.txt\"\n",
    "# Create a file for each food item and write specific content\n",
    "for ibm in range(len(food)):\n",
    "    with open(path.format(ibm), \"w\") as f3:\n",
    "        f3.write(food[ibm])\n",
    "   #     f3.write(\"\\n\" + food[1])\n",
    "\n",
    "        f3.write(\"\\n folder {} has a better food than {}\".format(food[0], food[1]))"
   ]
  },
  {
   "cell_type": "code",
   "execution_count": 70,
   "id": "93230940-5bba-44c3-9df0-82f84930ceb0",
   "metadata": {},
   "outputs": [],
   "source": [
    "# Define lists of warlords and nations\n",
    "\n",
    "warlords = [[\"Corocodile Alabasta\", \"Pugerion in the Dark!\"], \n",
    "                [\"My ultimate armyy!!\", \"Boomshakalaka:'HAHOHE'\"]]\n",
    "nations = [[\"East Blue\", \"West Blue\"],\n",
    "               [\"Grand Line\", \"New World\"]]\n",
    "\n",
    "# Define a function to write the content of a given list to files\n",
    "def OnePiece(text):\n",
    "        \n",
    "    path = \"C:/Users/ITD-DABED/Documents/VS Code/Python/6.Files\"\n",
    "    \n",
    "    for line in range(len(text)):\n",
    "        with open(path + \"Anime_{}.txt\".format(line), \"w\") as new:\n",
    "            new.write(text[line][0])\n",
    "            new.write(\"\\n\" + text[line][1])\n",
    "# Call the function with the warlords list    \n",
    "OnePiece(warlords)\n",
    "        "
   ]
  },
  {
   "cell_type": "code",
   "execution_count": 71,
   "id": "aeb2f949-341c-42a0-936e-c2fb5d641bbb",
   "metadata": {},
   "outputs": [],
   "source": [
    "# Open a new file in write mode and write multiple lines of text\n",
    "wwe = open(\"wwe.txt\", \"w\")\n",
    "wwe.write(\"\"\"John Cena announces\\n\n",
    "his retirement\\n\n",
    "and wrestlemanina 41 will be his last Wrestlemania!\"\"\")\n",
    "wwe.close()"
   ]
  },
  {
   "cell_type": "code",
   "execution_count": 72,
   "id": "237882fc-a351-4301-9ec6-59eebcb9045c",
   "metadata": {},
   "outputs": [],
   "source": [
    "# Open the same file in read and write mode, add new content, and read the lines\n",
    "cena = open (\"wwe.txt\", \"r+\")\n",
    "cena.write(\"\\n We ain't ready for this! :((\")\n",
    "end = cena.readlines()\n",
    "cena.close()"
   ]
  },
  {
   "cell_type": "code",
   "execution_count": 73,
   "id": "956db25c-5c60-4ec6-8657-50b1fffd2ba8",
   "metadata": {},
   "outputs": [],
   "source": [
    "# Join the lines and check for a specific word in the combined string\n",
    "film = \"\".join(end)"
   ]
  },
  {
   "cell_type": "code",
   "execution_count": 74,
   "id": "48e72d44-626f-4ce4-a9c2-7875c0910046",
   "metadata": {},
   "outputs": [
    {
     "data": {
      "text/plain": [
       "True"
      ]
     },
     "execution_count": 74,
     "metadata": {},
     "output_type": "execute_result"
    }
   ],
   "source": [
    "# Replace newline characters in the string with empty strings,\n",
    "# split the resulting string into a list of words, and check if \"41\" is in that list.\n",
    "\"41\" in film.replace(\"\\n\",\"\").split()"
   ]
  },
  {
   "cell_type": "code",
   "execution_count": null,
   "id": "8c755ad9-23c3-485e-a6fb-084516822a77",
   "metadata": {},
   "outputs": [],
   "source": []
  }
 ],
 "metadata": {
  "kernelspec": {
   "display_name": "Python 3 (ipykernel)",
   "language": "python",
   "name": "python3"
  },
  "language_info": {
   "codemirror_mode": {
    "name": "ipython",
    "version": 3
   },
   "file_extension": ".py",
   "mimetype": "text/x-python",
   "name": "python",
   "nbconvert_exporter": "python",
   "pygments_lexer": "ipython3",
   "version": "3.11.5"
  }
 },
 "nbformat": 4,
 "nbformat_minor": 5
}
