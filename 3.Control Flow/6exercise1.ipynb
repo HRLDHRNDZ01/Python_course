{
 "cells": [
  {
   "cell_type": "markdown",
   "id": "90fd7906-57c3-4db0-8d74-3825dfc01a2a",
   "metadata": {},
   "source": [
    "DESIRED OUTPUT 1\n",
    "Enter a number: 2\n",
    "found you!\n",
    "Enter a number or string: 2\n",
    "Can't find anything!\n",
    "DESIRED OUTPUT 2\n",
    "Enter a number: 4\n",
    "Where are you?\n",
    "HINTS?\n",
    "1. For the output control flow, check if var is in \"k1\".\n",
    "2. Else if var is in \"k1\"[3].\n",
    "3. Create an inner or nested control flow.\n",
    "4. You should have multiple outputs depending on your two inputs for both var and num."
   ]
  },
  {
   "cell_type": "code",
   "execution_count": 23,
   "id": "f50b7a25-d294-48d0-9460-9311b1fe9787",
   "metadata": {},
   "outputs": [
    {
     "name": "stdin",
     "output_type": "stream",
     "text": [
      "Enter a number:  2\n"
     ]
    },
    {
     "name": "stdout",
     "output_type": "stream",
     "text": [
      "found you!\n"
     ]
    },
    {
     "name": "stdin",
     "output_type": "stream",
     "text": [
      "Enter a number:  2\n"
     ]
    },
    {
     "name": "stdout",
     "output_type": "stream",
     "text": [
      "Can't find anything\n"
     ]
    }
   ],
   "source": [
    "d1 = {\"k1\": [1,2,3, (100, 300, 500)], \"k2\": [4,5,6, [\"phone\",\n",
    "\"computer\", \"robot\"]]}\n",
    "var = eval(input(\"Enter a number: \"))\n",
    " \n",
    "if var in d1[\"k1\"]:\n",
    "    print(\"found you!\")\n",
    "    num = input(\"Enter a number: \")\n",
    "        \n",
    "    if (num) in d1[\"k2\"][:3]:\n",
    "        print(\"Found another one!\")\n",
    "        item = input(\"Enter an item: \")\n",
    "\n",
    "    elif num in d1[\"k2\"][3]:\n",
    "        print(\"Got a\", num)\n",
    "    else:\n",
    "        print(\"Can't find anything\")\n",
    "    \n",
    "elif var in d1 [\"k1\"][3]:\n",
    "\n",
    "    print(\"can't hide!\")\n",
    "else:\n",
    "    print(\"Where are you?\")"
   ]
  },
  {
   "cell_type": "code",
   "execution_count": 18,
   "id": "af2a7907-8b5e-446e-ae2c-984ee9496e23",
   "metadata": {},
   "outputs": [
    {
     "name": "stdin",
     "output_type": "stream",
     "text": [
      "Enter a number:  4\n"
     ]
    },
    {
     "name": "stdout",
     "output_type": "stream",
     "text": [
      "Where are you?\n"
     ]
    }
   ],
   "source": [
    "d1 = {\"k1\": [1,2,3, (100, 300, 500)], \"k2\": [4,5,6, [\"phone\",\n",
    "\"computer\", \"robot\"]]}\n",
    "var = eval(input(\"Enter a number: \"))\n",
    "\n",
    "if var in d1[\"k1\"]:\n",
    "    print(\"found you!\")\n",
    "    num = input(\"Enter a number of string: \")\n",
    "\n",
    "    if(num) in d1[\"k2\"][:3]:\n",
    "        print(\"Found another one!\")\n",
    "\n",
    "\n",
    "    elif num in d1[\"k2\"][3]:\n",
    "        print(\"Got a\", num)\n",
    "    else:\n",
    "        print(\"Can't find anything\")\n",
    "\n",
    "elif var in d1[\"k1\"][3]:\n",
    "    print(\"can't hide!\")\n",
    "else:\n",
    "    print(\"Where are you?\")\n",
    "\n",
    "    \n",
    "        "
   ]
  },
  {
   "cell_type": "code",
   "execution_count": null,
   "id": "3996fe76-8075-4190-bc42-9e3fa9df721a",
   "metadata": {},
   "outputs": [],
   "source": []
  }
 ],
 "metadata": {
  "kernelspec": {
   "display_name": "Python 3 (ipykernel)",
   "language": "python",
   "name": "python3"
  },
  "language_info": {
   "codemirror_mode": {
    "name": "ipython",
    "version": 3
   },
   "file_extension": ".py",
   "mimetype": "text/x-python",
   "name": "python",
   "nbconvert_exporter": "python",
   "pygments_lexer": "ipython3",
   "version": "3.11.5"
  }
 },
 "nbformat": 4,
 "nbformat_minor": 5
}
