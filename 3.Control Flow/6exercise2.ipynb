{
 "cells": [
  {
   "cell_type": "markdown",
   "id": "01b004fd-6749-46a7-8037-15b804bb1389",
   "metadata": {},
   "source": [
    "\"\"\"\n",
    "DESIRED OUTPUT\n",
    "Enter a number 0 to 2: 0\n",
    "Enter a number 0 to 2: 0\n",
    "My meal is hot and very spicy !\n",
    "\n",
    "DESIRED OUTPUT\n",
    "Enter a number 0 to 2: 0 Enter a number 0 to 2: 0 My meal is hot and very spicy !\n",
    "HINTS?\n",
    "1. Use only ONE if statement and an else statement.\n",
    "2. Use eval built-in function or method.\n",
    "3. Use indexing.\n",
    "4. Use the None type object as the only output for the if statement.\n",
    "Enter a number: 4\n",
    "Where are you?\n",
    "5. Use the following operators:\n",
    "and\n",
    "or\n",
    ">\n",
    "<\n",
    "\n",
    "\"\"\""
   ]
  },
  {
   "cell_type": "code",
   "execution_count": 5,
   "id": "29b0465f-46f8-4f27-8a2c-955ad99ec789",
   "metadata": {},
   "outputs": [
    {
     "name": "stdin",
     "output_type": "stream",
     "text": [
      "Enter a number 0 to 2:  0\n",
      "Enter a number 0 to 2:  0\n"
     ]
    },
    {
     "name": "stdout",
     "output_type": "stream",
     "text": [
      "My meal is hot and very spicy !\n"
     ]
    }
   ],
   "source": [
    "choose = eval(input(\"Enter a number 0 to 2: \"))\n",
    "pick = eval(input(\"Enter a number 0 to 2: \"))\n",
    "\n",
    "if choose > 2 and pick > 2 or choose <= 2 and pick > 2 or choose > 2 and pick <= 2:\n",
    "    None\n",
    "\n",
    "else:\n",
    "\n",
    "    meal = []\n",
    "    cooked_pasta = [\"hot\", \"cold\", \"over cooked\"][choose]\n",
    "    sauce = [\"spicy\", \"sweet\", \"savoury\"][pick]\n",
    "    print(\"My meal is\", cooked_pasta, \"and very\", sauce, \"!\")"
   ]
  },
  {
   "cell_type": "code",
   "execution_count": null,
   "id": "e86d6530-e372-4919-a1f0-fa301bc52d66",
   "metadata": {},
   "outputs": [],
   "source": []
  }
 ],
 "metadata": {
  "kernelspec": {
   "display_name": "Python 3 (ipykernel)",
   "language": "python",
   "name": "python3"
  },
  "language_info": {
   "codemirror_mode": {
    "name": "ipython",
    "version": 3
   },
   "file_extension": ".py",
   "mimetype": "text/x-python",
   "name": "python",
   "nbconvert_exporter": "python",
   "pygments_lexer": "ipython3",
   "version": "3.11.5"
  }
 },
 "nbformat": 4,
 "nbformat_minor": 5
}
