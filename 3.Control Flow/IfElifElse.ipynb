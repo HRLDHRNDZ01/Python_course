{
 "cells": [
  {
   "cell_type": "code",
   "execution_count": 1,
   "metadata": {},
   "outputs": [],
   "source": [
    "James = 23; Curry = 30; Wade = 3; Celtics = (\"Brown\", \"Tatum\", \"Porzingis\")"
   ]
  },
  {
   "cell_type": "code",
   "execution_count": 2,
   "metadata": {},
   "outputs": [
    {
     "name": "stdout",
     "output_type": "stream",
     "text": [
      "James is the GOAT!\n"
     ]
    }
   ],
   "source": [
    "#Using if and else statement:\n",
    "\n",
    "if James == 23:\n",
    "    print(\"James is the GOAT!\")\n",
    "else:\n",
    "    print(\"No he is not!\") #if the if statement is flase this will be the result"
   ]
  },
  {
   "cell_type": "code",
   "execution_count": 5,
   "metadata": {},
   "outputs": [
    {
     "name": "stdout",
     "output_type": "stream",
     "text": [
      "James is the GOAT!\n",
      "Curry is the greatest shooter!\n"
     ]
    }
   ],
   "source": [
    "#using nested if statements\n",
    "if James == 23:\n",
    "    print(\"James is the GOAT!\")\n",
    "    #the reslt of this if statement will not display if the external if statement is false\n",
    "    if Curry == 30:\n",
    "        print(\"Curry is the greatest shooter!\")\n",
    "    else:\n",
    "        print(\"No he is not\")\n",
    "else:\n",
    "    print(\"No he is not!\") #if the if statement is flase this will be the result"
   ]
  },
  {
   "cell_type": "code",
   "execution_count": 11,
   "metadata": {},
   "outputs": [
    {
     "name": "stdout",
     "output_type": "stream",
     "text": [
      "James is the GOAT!\n",
      "Curry is the greatest shooter!\n",
      "D-Wade was a beast during his prime!\n",
      "Celtics are strong\n"
     ]
    }
   ],
   "source": [
    "if James == 23:\n",
    "    print(\"James is the GOAT!\")\n",
    "    #the result of this if statement will not display if the external if statement is false\n",
    "    if Curry == 30:\n",
    "        print(\"Curry is the greatest shooter!\")\n",
    "        #same goes for this if statement,the result of this will not display if the external if statement is false\n",
    "        if Wade == 3:\n",
    "            print(\"D-Wade was a beast during his prime!\")\n",
    "\n",
    "            if \"Brown\" and \"Tatum\" in Celtics:\n",
    "                print(\"Celtics are strong\")\n",
    "            else:\n",
    "                print(\"No they are not!\")\n",
    "        else:\n",
    "            print(\"No he is not\")\n",
    "    else:\n",
    "        print(\"No he is not\")\n",
    "else:\n",
    "    print(\"No he is not!\") #if the if statement is false this will be the result"
   ]
  },
  {
   "cell_type": "code",
   "execution_count": 12,
   "metadata": {},
   "outputs": [],
   "source": [
    "num = input(\"Enter a number: \")\n",
    "num"
   ]
  }
 ],
 "metadata": {
  "kernelspec": {
   "display_name": "Python 3",
   "language": "python",
   "name": "python3"
  },
  "language_info": {
   "codemirror_mode": {
    "name": "ipython",
    "version": 3
   },
   "file_extension": ".py",
   "mimetype": "text/x-python",
   "name": "python",
   "nbconvert_exporter": "python",
   "pygments_lexer": "ipython3",
   "version": "3.11.5"
  }
 },
 "nbformat": 4,
 "nbformat_minor": 2
}
