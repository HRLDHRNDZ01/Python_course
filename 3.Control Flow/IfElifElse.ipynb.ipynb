{
 "cells": [
  {
   "cell_type": "code",
   "execution_count": 31,
   "metadata": {},
   "outputs": [],
   "source": [
    "James = 23; Curry = 30; Wade = 3; Celtics = (\"Brown\", \"Tatum\", \"Porzingis\")"
   ]
  },
  {
   "cell_type": "code",
   "execution_count": 32,
   "metadata": {},
   "outputs": [
    {
     "name": "stdout",
     "output_type": "stream",
     "text": [
      "James is the GOAT!\n"
     ]
    }
   ],
   "source": [
    "#Using if and else statement:\n",
    "\n",
    "if James == 23:\n",
    "    print(\"James is the GOAT!\")\n",
    "else:\n",
    "    print(\"No he is not!\") #if the if statement is flase this will be the result"
   ]
  },
  {
   "cell_type": "code",
   "execution_count": 33,
   "metadata": {},
   "outputs": [
    {
     "name": "stdout",
     "output_type": "stream",
     "text": [
      "James is the GOAT!\n",
      "Curry is the greatest shooter!\n"
     ]
    }
   ],
   "source": [
    "#using nested if statements\n",
    "if James == 23:\n",
    "    print(\"James is the GOAT!\")\n",
    "    #the reslt of this if statement will not display if the external if statement is false\n",
    "    if Curry == 30:\n",
    "        print(\"Curry is the greatest shooter!\")\n",
    "    else:\n",
    "        print(\"No he is not\")\n",
    "else:\n",
    "    print(\"No he is not!\") #if the if statement is flase this will be the result"
   ]
  },
  {
   "cell_type": "code",
   "execution_count": 34,
   "metadata": {},
   "outputs": [
    {
     "name": "stdout",
     "output_type": "stream",
     "text": [
      "James is the GOAT!\n",
      "Curry is the greatest shooter!\n",
      "D-Wade was a beast during his prime!\n",
      "Celtics are strong\n"
     ]
    }
   ],
   "source": [
    "if James == 23:\n",
    "    print(\"James is the GOAT!\")\n",
    "    #the result of this if statement will not display if the external if statement is false\n",
    "    if Curry == 30:\n",
    "        print(\"Curry is the greatest shooter!\")\n",
    "        #same goes for this if statement,the result of this will not display if the external if statement is false\n",
    "        if Wade == 3:\n",
    "            print(\"D-Wade was a beast during his prime!\")\n",
    "\n",
    "            if \"Brown\" and \"Tatum\" in Celtics:\n",
    "                print(\"Celtics are strong\")\n",
    "            else:\n",
    "                print(\"No they are not!\")\n",
    "        else:\n",
    "            print(\"No he is not\")\n",
    "    else:\n",
    "        print(\"No he is not\")\n",
    "else:\n",
    "    print(\"No he is not!\") #if the if statement is false this will be the result"
   ]
  },
  {
   "cell_type": "code",
   "execution_count": 65,
   "metadata": {},
   "outputs": [
    {
     "name": "stdin",
     "output_type": "stream",
     "text": [
      "Enter a number:  23\n"
     ]
    },
    {
     "name": "stdout",
     "output_type": "stream",
     "text": [
      "You are right, James' number is 23\n"
     ]
    }
   ],
   "source": [
    "# Get input from user\n",
    "nba = int(input(\"Enter a number: \"))\n",
    "\n",
    "# Check conditions based on input\n",
    "if nba == James:\n",
    "    print(\"You are right, James' number is 23\")\n",
    "elif nba == Curry:\n",
    "    print(\"You are right, Curry's jersey number is 30\")\n",
    "elif nba == Wade:\n",
    "    print(\"You are right, Wade's jersey number is 3 \")\n",
    "else:\n",
    "    (\"Keep guesing\"!)\n",
    "\n",
    " "
   ]
  },
  {
   "cell_type": "code",
   "execution_count": 88,
   "metadata": {
    "scrolled": true
   },
   "outputs": [
    {
     "name": "stdin",
     "output_type": "stream",
     "text": [
      "Enter a number:  1\n"
     ]
    },
    {
     "name": "stdout",
     "output_type": "stream",
     "text": [
      "You are correct,Tatum is a Celtic player\n"
     ]
    }
   ],
   "source": [
    "nba = eval(input(\"Enter a number: \"))\n",
    "\n",
    "if nba >= 3: #for inputs 3 or greater.\n",
    "    print(\"Try harder!\")\n",
    "elif Celtics[nba] == \"Brown\": # elif statements check if nba matches the index of players in the Celtics tuple.\n",
    "    print(\"You are correct, {} is a lCeltic player\".format(Celtics[nba]))\n",
    "elif Celtics[nba] == \"Tatum\":\n",
    "    print(\"You are correct,{} is a Celtic player\".format(Celtics[nba]))\n",
    "elif Celtics[nba] == \"Porzingis\":\n",
    "    print(\"You are correct, {} is a Celtic player\".format(Celtics[nba]))\n"
   ]
  },
  {
   "cell_type": "code",
   "execution_count": 92,
   "metadata": {},
   "outputs": [
    {
     "data": {
      "text/plain": [
       "[[0, 1, 2, 3, 4, 5, 6, 7, 8, 9, 10],\n",
       " [11, 12, 13, 14, 15, 16, 17, 18, 19, 20],\n",
       " [21, 22, 23, 24, 25, 26, 27, 28, 29, 30]]"
      ]
     },
     "execution_count": 92,
     "metadata": {},
     "output_type": "execute_result"
    }
   ],
   "source": [
    "numbers = [list(range(11)), list(range(11,21)), list(range(21,31))]\n",
    "\n",
    "numbers"
   ]
  },
  {
   "cell_type": "code",
   "execution_count": 104,
   "metadata": {},
   "outputs": [
    {
     "name": "stdin",
     "output_type": "stream",
     "text": [
      "Enter a number:  40\n"
     ]
    },
    {
     "name": "stdout",
     "output_type": "stream",
     "text": [
      "Out of any list\n"
     ]
    }
   ],
   "source": [
    "answer = eval(input(\"Enter a number: \"))\n",
    "\n",
    "if answer in numbers[0]:\n",
    "    print(answer, \"it is included\")\n",
    "\n",
    "elif answer in numbers[1]:\n",
    "    print(answer, \"it is included\")\n",
    "\n",
    "elif answer in numbers[2]:\n",
    "    print(answer, \"it is included\")\n",
    "\n",
    "else:\n",
    "    print(\"Out of any list\")\n",
    "    "
   ]
  },
  {
   "cell_type": "code",
   "execution_count": null,
   "metadata": {},
   "outputs": [],
   "source": []
  }
 ],
 "metadata": {
  "kernelspec": {
   "display_name": "Python 3 (ipykernel)",
   "language": "python",
   "name": "python3"
  },
  "language_info": {
   "codemirror_mode": {
    "name": "ipython",
    "version": 3
   },
   "file_extension": ".py",
   "mimetype": "text/x-python",
   "name": "python",
   "nbconvert_exporter": "python",
   "pygments_lexer": "ipython3",
   "version": "3.11.5"
  }
 },
 "nbformat": 4,
 "nbformat_minor": 4
}
