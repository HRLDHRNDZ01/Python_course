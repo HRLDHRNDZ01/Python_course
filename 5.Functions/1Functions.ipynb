{
 "cells": [
  {
   "cell_type": "markdown",
   "id": "bb401f7e-1b4e-4a8b-8df2-5781e4345d8f",
   "metadata": {},
   "source": [
    "FUNCTIONS\n",
    "- Reduces the amount of code\n",
    "- Can be called anywhere in the notebook or cell\n",
    "- Functions must be given a name\n",
    "- Can contain multiple  parameters  or none at all\n",
    "- A parameter can have default values"
   ]
  },
  {
   "cell_type": "code",
   "execution_count": 75,
   "id": "6a213429-2e4e-4b1a-bf42-042dca3ae7b4",
   "metadata": {},
   "outputs": [
    {
     "data": {
      "text/plain": [
       "120"
      ]
     },
     "execution_count": 75,
     "metadata": {},
     "output_type": "execute_result"
    }
   ],
   "source": [
    "def sword (option1, option2):\n",
    "    \"\"\"This is an example\"\"\"\n",
    "    return option1 + option2\n",
    "okay = sword (50, 70)\n",
    "okay"
   ]
  },
  {
   "cell_type": "code",
   "execution_count": 13,
   "id": "db2783b6-dfb5-4d8b-a8bd-7e38c2f7500f",
   "metadata": {},
   "outputs": [
    {
     "data": {
      "text/plain": [
       "120"
      ]
     },
     "execution_count": 13,
     "metadata": {},
     "output_type": "execute_result"
    }
   ],
   "source": [
    "def sword (option1 = 50, option2 = 70): #assigned default values\n",
    "    return option1 + option2\n",
    "okay = sword ()\n",
    "okay"
   ]
  },
  {
   "cell_type": "code",
   "execution_count": 15,
   "id": "e60485e4-f58e-4c4f-8859-6970cdbfb51c",
   "metadata": {},
   "outputs": [
    {
     "data": {
      "text/plain": [
       "function"
      ]
     },
     "execution_count": 15,
     "metadata": {},
     "output_type": "execute_result"
    }
   ],
   "source": [
    "type(sword)"
   ]
  },
  {
   "cell_type": "code",
   "execution_count": 21,
   "id": "e461a3d7-caae-43b3-ac2e-2b0fd76c6de2",
   "metadata": {},
   "outputs": [
    {
     "name": "stdout",
     "output_type": "stream",
     "text": [
      "25\n",
      "625\n",
      "15625\n",
      "with a total of:  16275\n"
     ]
    }
   ],
   "source": [
    "def guard(position):\n",
    "    return position  ** 2\n",
    "\n",
    "def forward(position):\n",
    "    return position ** 4\n",
    "\n",
    "def center(position):\n",
    "    return position ** 6\n",
    "\n",
    "answer = 5\n",
    "\n",
    "print(guard(answer))\n",
    "print(forward(answer))\n",
    "print(center(answer))\n",
    "\n",
    "total = guard(answer) + forward(answer) + center(answer)\n",
    "print(\"with a total of: \", total)"
   ]
  },
  {
   "cell_type": "code",
   "execution_count": 62,
   "id": "afef1600-7aa4-4d48-a89d-dac3c9e950c6",
   "metadata": {},
   "outputs": [],
   "source": [
    "def guess():\n",
    "    \"\"\"Enter the number to reveal the gender: \"\"\"\n",
    "    gender = eval(input(\"Enter the number plase: \"))\n",
    "    if gender >= 1 and gender < 13:\n",
    "        print(\"since you inputted {}, it is a boy\".format(gender))\n",
    "    elif gender >= 13 and gender < 25:\n",
    "        print(\"since you inputted {}, it is a girl\".format(gender))\n",
    "    else:\n",
    "        print(\"Unidentified!\")"
   ]
  },
  {
   "cell_type": "code",
   "execution_count": 63,
   "id": "74369565-a3b1-48aa-a7d5-98b0649ed8ae",
   "metadata": {},
   "outputs": [
    {
     "name": "stdin",
     "output_type": "stream",
     "text": [
      "Enter the number plase:  20\n"
     ]
    },
    {
     "name": "stdout",
     "output_type": "stream",
     "text": [
      "since you inputted 20, it is a girl\n"
     ]
    }
   ],
   "source": [
    "# Call the guess function to prompt the user for input\n",
    "guess()"
   ]
  },
  {
   "cell_type": "code",
   "execution_count": 64,
   "id": "ba282e0e-ced4-4e0c-b702-9211a0747b64",
   "metadata": {},
   "outputs": [],
   "source": [
    "def guess():\n",
    "    \"\"\"Enter the number to reveal the gender: \"\"\"\n",
    "    gender = eval(input(\"Enter the number plase: \"))\n",
    "    if gender >= 1 and gender < 13: \n",
    "        print(\"since you inputted {}, it is a boy\".format(gender))\n",
    "        return gender\n",
    "    elif gender >= 13 and gender < 25:\n",
    "        print(\"since you inputted {}, it is a girl\".format(gender))\n",
    "        return gender\n",
    "    else:\n",
    "        print(\"Unidentified!\")\n",
    "        return gender"
   ]
  },
  {
   "cell_type": "code",
   "execution_count": 72,
   "id": "c47c06b7-4a9f-4774-9cc6-509d43d30900",
   "metadata": {},
   "outputs": [
    {
     "name": "stdin",
     "output_type": "stream",
     "text": [
      "Enter the number plase:  12\n"
     ]
    },
    {
     "name": "stdout",
     "output_type": "stream",
     "text": [
      "since you inputted 12, it is a boy\n"
     ]
    }
   ],
   "source": [
    "# Call the guess function and assign the result to a variable\n",
    "gender = guess()"
   ]
  },
  {
   "cell_type": "code",
   "execution_count": 76,
   "id": "091df57c-365f-470a-85e2-7277508e21e1",
   "metadata": {},
   "outputs": [
    {
     "data": {
      "text/plain": [
       "12"
      ]
     },
     "execution_count": 76,
     "metadata": {},
     "output_type": "execute_result"
    }
   ],
   "source": [
    "gender"
   ]
  },
  {
   "cell_type": "code",
   "execution_count": null,
   "id": "71c9ad93-5688-464c-b98f-1d14935e22de",
   "metadata": {},
   "outputs": [],
   "source": []
  }
 ],
 "metadata": {
  "kernelspec": {
   "display_name": "Python 3 (ipykernel)",
   "language": "python",
   "name": "python3"
  },
  "language_info": {
   "codemirror_mode": {
    "name": "ipython",
    "version": 3
   },
   "file_extension": ".py",
   "mimetype": "text/x-python",
   "name": "python",
   "nbconvert_exporter": "python",
   "pygments_lexer": "ipython3",
   "version": "3.11.5"
  }
 },
 "nbformat": 4,
 "nbformat_minor": 5
}
