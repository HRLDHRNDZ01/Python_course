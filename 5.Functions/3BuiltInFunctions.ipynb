{
 "cells": [
  {
   "cell_type": "markdown",
   "id": "651a72a1-8d68-4e88-bcb8-9d41487a0866",
   "metadata": {},
   "source": [
    "Built-In Python functions are always availble on command.\n",
    "As of Python 3.6, there are total of 68 built-in functions.\n",
    "\n",
    "12 Built-in Functions \n",
    "max()\n",
    "min()\n",
    "sum()\n",
    "round()\n",
    "abs()\n",
    "print()\n",
    "pow()\n",
    "sorted()\n",
    "eval()\n",
    "format()\n",
    "any()\n",
    "all()"
   ]
  },
  {
   "cell_type": "code",
   "execution_count": 31,
   "id": "de826add-aa4f-4167-938c-7e64c2d26894",
   "metadata": {},
   "outputs": [
    {
     "data": {
      "text/plain": [
       "[10, 1, 7, 4, 5, 9, 2, 8, 3, 6]"
      ]
     },
     "execution_count": 31,
     "metadata": {},
     "output_type": "execute_result"
    }
   ],
   "source": [
    "import random as rd\n",
    "\n",
    "rd.seed(10) # Set the seed for the random number generator to ensure reproducibility\n",
    "\n",
    "numbers = rd.sample(range(1, 11), k = 10)  # Generate a list of 10 unique random numbers from 1 to 10\n",
    "\n",
    "numbers"
   ]
  },
  {
   "cell_type": "code",
   "execution_count": 32,
   "id": "77130c95-60ad-45e6-bc93-a60839daf92e",
   "metadata": {},
   "outputs": [
    {
     "data": {
      "text/plain": [
       "10"
      ]
     },
     "execution_count": 32,
     "metadata": {},
     "output_type": "execute_result"
    }
   ],
   "source": [
    "max(numbers) # Find the maximum value in the list of numbers"
   ]
  },
  {
   "cell_type": "code",
   "execution_count": 33,
   "id": "e2495ea9-6345-411f-839b-1156b5bf8ef8",
   "metadata": {},
   "outputs": [
    {
     "data": {
      "text/plain": [
       "1"
      ]
     },
     "execution_count": 33,
     "metadata": {},
     "output_type": "execute_result"
    }
   ],
   "source": [
    "min(numbers)  # Find the minimum value in the list of numbers"
   ]
  },
  {
   "cell_type": "code",
   "execution_count": 34,
   "id": "7a75943e-5197-4e74-84fd-a6ea600cc06a",
   "metadata": {},
   "outputs": [
    {
     "data": {
      "text/plain": [
       "55"
      ]
     },
     "execution_count": 34,
     "metadata": {},
     "output_type": "execute_result"
    }
   ],
   "source": [
    "sum(numbers) # Calculate the sum of all numbers in the list"
   ]
  },
  {
   "cell_type": "code",
   "execution_count": 35,
   "id": "82c75bf7-9e71-4e41-8cb5-d7d99982946f",
   "metadata": {},
   "outputs": [
    {
     "data": {
      "text/plain": [
       "23.3"
      ]
     },
     "execution_count": 35,
     "metadata": {},
     "output_type": "execute_result"
    }
   ],
   "source": [
    "round(23.267, 1)  # Round the number 23.267 to 1 decimal place"
   ]
  },
  {
   "cell_type": "code",
   "execution_count": 36,
   "id": "af2900d6-626e-4351-a9eb-e8aad05053fc",
   "metadata": {},
   "outputs": [
    {
     "data": {
      "text/plain": [
       "230"
      ]
     },
     "execution_count": 36,
     "metadata": {},
     "output_type": "execute_result"
    }
   ],
   "source": [
    "abs(-230) # Calculate the absolute value of -230"
   ]
  },
  {
   "cell_type": "code",
   "execution_count": 37,
   "id": "1e77c3f5-a979-45b6-b30b-5b6719b863d6",
   "metadata": {},
   "outputs": [
    {
     "data": {
      "text/plain": [
       "25"
      ]
     },
     "execution_count": 37,
     "metadata": {},
     "output_type": "execute_result"
    }
   ],
   "source": [
    "pow(5, 2) # Calculate 5 raised to the power of 2"
   ]
  },
  {
   "cell_type": "code",
   "execution_count": 38,
   "id": "ef56458c-9dc1-46f8-8e53-5a930ce489cc",
   "metadata": {},
   "outputs": [
    {
     "data": {
      "text/plain": [
       "[10, 1, 7, 4, 5, 9, 2, 8, 3, 6]"
      ]
     },
     "execution_count": 38,
     "metadata": {},
     "output_type": "execute_result"
    }
   ],
   "source": [
    "numbers"
   ]
  },
  {
   "cell_type": "code",
   "execution_count": 39,
   "id": "9e69eb76-c3c5-4e20-91b2-3457b5ed9029",
   "metadata": {},
   "outputs": [
    {
     "data": {
      "text/plain": [
       "[1, 2, 3, 4, 5, 6, 7, 8, 9, 10]"
      ]
     },
     "execution_count": 39,
     "metadata": {},
     "output_type": "execute_result"
    }
   ],
   "source": [
    "align_numbers = sorted(numbers) # Sort the list of numbers in ascending order\n",
    "align_numbers"
   ]
  },
  {
   "cell_type": "code",
   "execution_count": 40,
   "id": "e021ca85-72d5-48a4-817a-19a1720b4e0c",
   "metadata": {},
   "outputs": [
    {
     "data": {
      "text/plain": [
       "[1, 16, 81, 256, 625, 1296, 2401, 4096, 6561, 10000]"
      ]
     },
     "execution_count": 40,
     "metadata": {},
     "output_type": "execute_result"
    }
   ],
   "source": [
    "[pow( new, 4) for new in align_numbers] # Create a list of numbers, each raised to the power of 4"
   ]
  },
  {
   "cell_type": "code",
   "execution_count": 41,
   "id": "45918178-0136-4124-8408-57c5d471804d",
   "metadata": {},
   "outputs": [
    {
     "data": {
      "text/plain": [
       "[True, True, False, False, False, False, False, False, False, False]"
      ]
     },
     "execution_count": 41,
     "metadata": {},
     "output_type": "execute_result"
    }
   ],
   "source": [
    "[result <= 2 for result in align_numbers] # Create a list of boolean values indicating if each number is less than or equal to 2"
   ]
  },
  {
   "cell_type": "code",
   "execution_count": 42,
   "id": "2eada917-9bed-49a7-807a-dae4f6bd69fb",
   "metadata": {},
   "outputs": [
    {
     "data": {
      "text/plain": [
       "[1, 2, 3, 4, 5, 6, 7, 8, 9, 10]"
      ]
     },
     "execution_count": 42,
     "metadata": {},
     "output_type": "execute_result"
    }
   ],
   "source": [
    "align_numbers"
   ]
  },
  {
   "cell_type": "code",
   "execution_count": 43,
   "id": "ac937b7d-8320-43c7-ad54-48151282a673",
   "metadata": {},
   "outputs": [
    {
     "data": {
      "text/plain": [
       "True"
      ]
     },
     "execution_count": 43,
     "metadata": {},
     "output_type": "execute_result"
    }
   ],
   "source": [
    "any([result <= 2 for result in align_numbers]) # Check if any of the numbers in the list are less than or equal to 2"
   ]
  },
  {
   "cell_type": "code",
   "execution_count": 44,
   "id": "11c0bda6-3583-435c-a27a-3103b6c035a9",
   "metadata": {},
   "outputs": [
    {
     "data": {
      "text/plain": [
       "8"
      ]
     },
     "execution_count": 44,
     "metadata": {},
     "output_type": "execute_result"
    }
   ],
   "source": [
    "sum([result > 2 for result in align_numbers]) #displays the number of all true in this condition"
   ]
  },
  {
   "cell_type": "code",
   "execution_count": 45,
   "id": "93217337-6cdd-47d1-9ab5-35be2aff74f0",
   "metadata": {},
   "outputs": [
    {
     "data": {
      "text/plain": [
       "['200', 100, 12.5, -30, -50]"
      ]
     },
     "execution_count": 45,
     "metadata": {},
     "output_type": "execute_result"
    }
   ],
   "source": [
    "code = ['200', 100, 12.5, -30, -50]  # Define a list of mixed types of numbers as strings, integers, and floats\n",
    "\n",
    "code # Print the original list"
   ]
  },
  {
   "cell_type": "code",
   "execution_count": 46,
   "id": "88927024-697a-4af3-8f1c-ca95323b8d88",
   "metadata": {},
   "outputs": [
    {
     "data": {
      "text/plain": [
       "392"
      ]
     },
     "execution_count": 46,
     "metadata": {},
     "output_type": "execute_result"
    }
   ],
   "source": [
    "# Calculate the sum of the values in the list\n",
    "# - Convert the first element from string to integer using eval\n",
    "# - Add the second element directly since it's an integer\n",
    "# - Convert the third element to integer (from float to int)\n",
    "# - Use abs() to get the absolute value of the fourth and fifth elements\n",
    "sum_code = eval(code[0]) + code[1] + int(code[2]) + abs(code[3]) + abs(code[4])\n",
    "sum_code"
   ]
  },
  {
   "cell_type": "code",
   "execution_count": 47,
   "id": "4ddf8e73-6986-49a8-a06c-8941bcdc5472",
   "metadata": {},
   "outputs": [
    {
     "data": {
      "text/plain": [
       "['200', 100, 12.5, -30, -50]"
      ]
     },
     "execution_count": 47,
     "metadata": {},
     "output_type": "execute_result"
    }
   ],
   "source": [
    "code"
   ]
  },
  {
   "cell_type": "code",
   "execution_count": 48,
   "id": "7a158d22-e5c5-4bcb-9528-8ffc5cb2af70",
   "metadata": {},
   "outputs": [
    {
     "data": {
      "text/plain": [
       "[200, 100, 12, -30, -50]"
      ]
     },
     "execution_count": 48,
     "metadata": {},
     "output_type": "execute_result"
    }
   ],
   "source": [
    "clean_dta = ([int(number_) for number_ in code]) # Clean the data by converting all elements in the list to integers\n",
    "clean_dta # Print the cleaned data"
   ]
  },
  {
   "cell_type": "code",
   "execution_count": 49,
   "id": "deafcb7d-4a1a-4c27-b2d7-a1390f9abb1a",
   "metadata": {},
   "outputs": [
    {
     "data": {
      "text/plain": [
       "[200, 100, 50]"
      ]
     },
     "execution_count": 49,
     "metadata": {},
     "output_type": "execute_result"
    }
   ],
   "source": [
    "# Sort the list in ascending order of absolute values\n",
    "# - Use abs() to convert all values to their absolute values\n",
    "# - Then sort the list\n",
    "# - Slice the sorted list from the 3rd element onwards\n",
    "# - Reverse the slice to get the largest values first\n",
    "clean_dta = sorted([abs(look) for look in[int(number_) for number_ in code]])[2:][3::-1]\n",
    "clean_dta # Print the cleaned and sorted data"
   ]
  },
  {
   "cell_type": "code",
   "execution_count": 52,
   "id": "85b81e6f-357e-4ce3-9881-b3336d0e4376",
   "metadata": {},
   "outputs": [
    {
     "data": {
      "text/plain": [
       "'Top 3 values are 200, 100, and 50. Largest is 200'"
      ]
     },
     "execution_count": 52,
     "metadata": {},
     "output_type": "execute_result"
    }
   ],
   "source": [
    "# Format a string to display the top 3 values\n",
    "# - Use the format method to insert the top 3 values from clean_dta into the string\n",
    "# - The first value in clean_dta will be the largest value\n",
    "\"Top 3 values are {0}, {1}, and {2}. Largest is {0}\".format(*clean_dta)"
   ]
  }
 ],
 "metadata": {
  "kernelspec": {
   "display_name": "Python 3 (ipykernel)",
   "language": "python",
   "name": "python3"
  },
  "language_info": {
   "codemirror_mode": {
    "name": "ipython",
    "version": 3
   },
   "file_extension": ".py",
   "mimetype": "text/x-python",
   "name": "python",
   "nbconvert_exporter": "python",
   "pygments_lexer": "ipython3",
   "version": "3.11.5"
  }
 },
 "nbformat": 4,
 "nbformat_minor": 5
}
