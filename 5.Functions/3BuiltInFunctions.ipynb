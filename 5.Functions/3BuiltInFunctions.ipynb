{
 "cells": [
  {
   "cell_type": "markdown",
   "id": "651a72a1-8d68-4e88-bcb8-9d41487a0866",
   "metadata": {},
   "source": [
    "Built-In Python functions are always availble on command.\n",
    "As of Python 3.6, there are total of 68 built-in functions.\n",
    "\n",
    "12 Built-in Functions \n",
    "max()\n",
    "min()\n",
    "sum()\n",
    "round()\n",
    "abs()\n",
    "print()\n",
    "pow()\n",
    "sorted()\n",
    "eval()\n",
    "format()\n",
    "any()\n",
    "all()"
   ]
  },
  {
   "cell_type": "code",
   "execution_count": 12,
   "id": "de826add-aa4f-4167-938c-7e64c2d26894",
   "metadata": {},
   "outputs": [
    {
     "data": {
      "text/plain": [
       "[10, 1, 7, 4, 5, 9, 2, 8, 3, 6]"
      ]
     },
     "execution_count": 12,
     "metadata": {},
     "output_type": "execute_result"
    }
   ],
   "source": [
    "import random as rd\n",
    "\n",
    "rd.seed(10) # Set the seed for the random number generator to ensure reproducibility\n",
    "\n",
    "numbers = rd.sample(range(1, 11), k = 10)  # Generate a list of 10 unique random numbers from 1 to 10\n",
    "\n",
    "numbers"
   ]
  },
  {
   "cell_type": "code",
   "execution_count": 13,
   "id": "77130c95-60ad-45e6-bc93-a60839daf92e",
   "metadata": {},
   "outputs": [
    {
     "data": {
      "text/plain": [
       "10"
      ]
     },
     "execution_count": 13,
     "metadata": {},
     "output_type": "execute_result"
    }
   ],
   "source": [
    "max(numbers) # Find the maximum value in the list of numbers"
   ]
  },
  {
   "cell_type": "code",
   "execution_count": 14,
   "id": "e2495ea9-6345-411f-839b-1156b5bf8ef8",
   "metadata": {},
   "outputs": [
    {
     "data": {
      "text/plain": [
       "1"
      ]
     },
     "execution_count": 14,
     "metadata": {},
     "output_type": "execute_result"
    }
   ],
   "source": [
    "min(numbers)  # Find the minimum value in the list of numbers"
   ]
  },
  {
   "cell_type": "code",
   "execution_count": 15,
   "id": "7a75943e-5197-4e74-84fd-a6ea600cc06a",
   "metadata": {},
   "outputs": [
    {
     "data": {
      "text/plain": [
       "55"
      ]
     },
     "execution_count": 15,
     "metadata": {},
     "output_type": "execute_result"
    }
   ],
   "source": [
    "sum(numbers) # Calculate the sum of all numbers in the list"
   ]
  },
  {
   "cell_type": "code",
   "execution_count": 17,
   "id": "82c75bf7-9e71-4e41-8cb5-d7d99982946f",
   "metadata": {},
   "outputs": [
    {
     "data": {
      "text/plain": [
       "23.3"
      ]
     },
     "execution_count": 17,
     "metadata": {},
     "output_type": "execute_result"
    }
   ],
   "source": [
    "round(23.267, 1)  # Round the number 23.267 to 1 decimal place"
   ]
  },
  {
   "cell_type": "code",
   "execution_count": 18,
   "id": "af2900d6-626e-4351-a9eb-e8aad05053fc",
   "metadata": {},
   "outputs": [
    {
     "data": {
      "text/plain": [
       "230"
      ]
     },
     "execution_count": 18,
     "metadata": {},
     "output_type": "execute_result"
    }
   ],
   "source": [
    "abs(-230) # Calculate the absolute value of -230"
   ]
  },
  {
   "cell_type": "code",
   "execution_count": 19,
   "id": "1e77c3f5-a979-45b6-b30b-5b6719b863d6",
   "metadata": {},
   "outputs": [
    {
     "data": {
      "text/plain": [
       "25"
      ]
     },
     "execution_count": 19,
     "metadata": {},
     "output_type": "execute_result"
    }
   ],
   "source": [
    "pow(5, 2) # Calculate 5 raised to the power of 2"
   ]
  },
  {
   "cell_type": "code",
   "execution_count": 20,
   "id": "ef56458c-9dc1-46f8-8e53-5a930ce489cc",
   "metadata": {},
   "outputs": [
    {
     "data": {
      "text/plain": [
       "[10, 1, 7, 4, 5, 9, 2, 8, 3, 6]"
      ]
     },
     "execution_count": 20,
     "metadata": {},
     "output_type": "execute_result"
    }
   ],
   "source": [
    "numbers"
   ]
  },
  {
   "cell_type": "code",
   "execution_count": 22,
   "id": "9e69eb76-c3c5-4e20-91b2-3457b5ed9029",
   "metadata": {},
   "outputs": [
    {
     "data": {
      "text/plain": [
       "[1, 2, 3, 4, 5, 6, 7, 8, 9, 10]"
      ]
     },
     "execution_count": 22,
     "metadata": {},
     "output_type": "execute_result"
    }
   ],
   "source": [
    "align_numbers = sorted(numbers # Sort the list of numbers in ascending order\n",
    "align_numbers"
   ]
  },
  {
   "cell_type": "code",
   "execution_count": 35,
   "id": "e021ca85-72d5-48a4-817a-19a1720b4e0c",
   "metadata": {},
   "outputs": [
    {
     "data": {
      "text/plain": [
       "[1, 16, 81, 256, 625, 1296, 2401, 4096, 6561, 10000]"
      ]
     },
     "execution_count": 35,
     "metadata": {},
     "output_type": "execute_result"
    }
   ],
   "source": [
    "[pow( new, 4) for new in align_numbers] # Create a list of numbers, each raised to the power of 4"
   ]
  },
  {
   "cell_type": "code",
   "execution_count": 39,
   "id": "45918178-0136-4124-8408-57c5d471804d",
   "metadata": {},
   "outputs": [
    {
     "data": {
      "text/plain": [
       "[True, True, False, False, False, False, False, False, False, False]"
      ]
     },
     "execution_count": 39,
     "metadata": {},
     "output_type": "execute_result"
    }
   ],
   "source": [
    "[result <= 2 for result in align_numbers] # Create a list of boolean values indicating if each number is less than or equal to 2"
   ]
  },
  {
   "cell_type": "code",
   "execution_count": 33,
   "id": "2eada917-9bed-49a7-807a-dae4f6bd69fb",
   "metadata": {},
   "outputs": [
    {
     "data": {
      "text/plain": [
       "[1, 2, 3, 4, 5, 6, 7, 8, 9, 10]"
      ]
     },
     "execution_count": 33,
     "metadata": {},
     "output_type": "execute_result"
    }
   ],
   "source": [
    "align_numbers"
   ]
  },
  {
   "cell_type": "code",
   "execution_count": 42,
   "id": "ac937b7d-8320-43c7-ad54-48151282a673",
   "metadata": {},
   "outputs": [
    {
     "data": {
      "text/plain": [
       "True"
      ]
     },
     "execution_count": 42,
     "metadata": {},
     "output_type": "execute_result"
    }
   ],
   "source": [
    "any([result <= 2 for result in align_numbers]) # Check if any of the numbers in the list are less than or equal to 2"
   ]
  },
  {
   "cell_type": "code",
   "execution_count": null,
   "id": "11c0bda6-3583-435c-a27a-3103b6c035a9",
   "metadata": {},
   "outputs": [],
   "source": []
  }
 ],
 "metadata": {
  "kernelspec": {
   "display_name": "Python 3 (ipykernel)",
   "language": "python",
   "name": "python3"
  },
  "language_info": {
   "codemirror_mode": {
    "name": "ipython",
    "version": 3
   },
   "file_extension": ".py",
   "mimetype": "text/x-python",
   "name": "python",
   "nbconvert_exporter": "python",
   "pygments_lexer": "ipython3",
   "version": "3.11.5"
  }
 },
 "nbformat": 4,
 "nbformat_minor": 5
}
