{
 "cells": [
  {
   "cell_type": "markdown",
   "id": "e32ddd88-1053-44a9-9713-37f1f8593a99",
   "metadata": {},
   "source": [
    "RANDOM\n",
    "-Random: Module require importing (default package)\n",
    "-Generates random values"
   ]
  },
  {
   "cell_type": "code",
   "execution_count": 1,
   "id": "056a8b87-a221-42fa-9b52-dcc9a4d12763",
   "metadata": {},
   "outputs": [],
   "source": [
    "import random"
   ]
  },
  {
   "cell_type": "code",
   "execution_count": 4,
   "id": "1c041282-24ca-4388-ab10-e5d71b7bd07e",
   "metadata": {},
   "outputs": [
    {
     "data": {
      "text/plain": [
       "['BPF',\n",
       " 'LOG4',\n",
       " 'NV_MAGICCONST',\n",
       " 'RECIP_BPF',\n",
       " 'Random',\n",
       " 'SG_MAGICCONST',\n",
       " 'SystemRandom',\n",
       " 'TWOPI',\n",
       " '_ONE',\n",
       " '_Sequence',\n",
       " '_Set',\n",
       " '__all__',\n",
       " '__builtins__',\n",
       " '__cached__',\n",
       " '__doc__',\n",
       " '__file__',\n",
       " '__loader__',\n",
       " '__name__',\n",
       " '__package__',\n",
       " '__spec__',\n",
       " '_accumulate',\n",
       " '_acos',\n",
       " '_bisect',\n",
       " '_ceil',\n",
       " '_cos',\n",
       " '_e',\n",
       " '_exp',\n",
       " '_floor',\n",
       " '_index',\n",
       " '_inst',\n",
       " '_isfinite',\n",
       " '_log',\n",
       " '_os',\n",
       " '_pi',\n",
       " '_random',\n",
       " '_repeat',\n",
       " '_sha512',\n",
       " '_sin',\n",
       " '_sqrt',\n",
       " '_test',\n",
       " '_test_generator',\n",
       " '_urandom',\n",
       " '_warn',\n",
       " 'betavariate',\n",
       " 'choice',\n",
       " 'choices',\n",
       " 'expovariate',\n",
       " 'gammavariate',\n",
       " 'gauss',\n",
       " 'getrandbits',\n",
       " 'getstate',\n",
       " 'lognormvariate',\n",
       " 'normalvariate',\n",
       " 'paretovariate',\n",
       " 'randbytes',\n",
       " 'randint',\n",
       " 'random',\n",
       " 'randrange',\n",
       " 'sample',\n",
       " 'seed',\n",
       " 'setstate',\n",
       " 'shuffle',\n",
       " 'triangular',\n",
       " 'uniform',\n",
       " 'vonmisesvariate',\n",
       " 'weibullvariate']"
      ]
     },
     "execution_count": 4,
     "metadata": {},
     "output_type": "execute_result"
    }
   ],
   "source": [
    "dir(random) #list of all functions, methods and special methods"
   ]
  },
  {
   "cell_type": "code",
   "execution_count": 6,
   "id": "bae20705-6933-4ba5-8db8-4381a31c42c7",
   "metadata": {},
   "outputs": [
    {
     "data": {
      "text/plain": [
       "66"
      ]
     },
     "execution_count": 6,
     "metadata": {},
     "output_type": "execute_result"
    }
   ],
   "source": [
    "len(dir(random)) #to count the number of strings inside random"
   ]
  },
  {
   "cell_type": "code",
   "execution_count": 8,
   "id": "f38d7b10-f222-4cee-9f5d-cd1dca16bce7",
   "metadata": {},
   "outputs": [],
   "source": [
    "import random as rd # rename it as you desire "
   ]
  },
  {
   "cell_type": "code",
   "execution_count": 10,
   "id": "79391c88-7822-4ff0-bb3c-8793daa8e2e0",
   "metadata": {},
   "outputs": [
    {
     "data": {
      "text/plain": [
       "20"
      ]
     },
     "execution_count": 10,
     "metadata": {},
     "output_type": "execute_result"
    }
   ],
   "source": [
    "rd.randint(10, 20)"
   ]
  },
  {
   "cell_type": "code",
   "execution_count": 25,
   "id": "5e0d789b-bc04-4b00-ab88-ee6aca2143a6",
   "metadata": {},
   "outputs": [
    {
     "data": {
      "text/plain": [
       "30"
      ]
     },
     "execution_count": 25,
     "metadata": {},
     "output_type": "execute_result"
    }
   ],
   "source": [
    "rd.randrange(10, 90, 10)\n"
   ]
  },
  {
   "cell_type": "code",
   "execution_count": 65,
   "id": "365d4566-0f93-4141-9ab7-a9f691101013",
   "metadata": {},
   "outputs": [
    {
     "data": {
      "text/plain": [
       "['🐒', '🐍', '🐘', '🐎', '🐅', '🐈']"
      ]
     },
     "execution_count": 65,
     "metadata": {},
     "output_type": "execute_result"
    }
   ],
   "source": [
    "'''This code initializes a list of animal \n",
    "emojis and imports the random module. The shuffle function call and the subsequent output of the animals list are commented out.'''\n",
    "\n",
    "animals = [\"\\N{horse}\", \"\\N{tiger}\", \"\\N{elephant}\", \"\\N{monkey}\", \"\\N{snake}\", \"\\N{cat}\"]\n",
    "\n",
    "rd.shuffle(animals)\n",
    "animals"
   ]
  },
  {
   "cell_type": "code",
   "execution_count": 147,
   "id": "84cd14c5-ec09-47f5-86ae-7f49e0522c34",
   "metadata": {},
   "outputs": [
    {
     "name": "stdout",
     "output_type": "stream",
     "text": [
      "NBA Finals Match Up\n",
      " Miami Heat vs Golden State Warriors\n",
      "NBA Finals Match Up\n",
      " Boston Celtics vs Pheonix Suns\n",
      "NBA Finals Match Up\n",
      " Milwauekee Bucks vs San Antonio Spurs\n",
      "NBA Finals Match Up\n",
      " Toronto Raptors vs Los Angeles Lakers\n"
     ]
    }
   ],
   "source": [
    "east = [\"Miami Heat\", \"Boston Celtics\", \"Milwauekee Bucks\", \"Toronto Raptors\"]\n",
    "west = [\"San Antonio Spurs\", \"Los Angeles Lakers\", \"Pheonix Suns\", \"Golden State Warriors\"]\n",
    "\n",
    "matchups = list(range(len(east))) # Create matchups index\n",
    "\n",
    "matchups\n",
    "\n",
    "# Shuffle the teams\n",
    "rd.shuffle(east)\n",
    "rd.shuffle(west)\n",
    "\n",
    "for finals in matchups:\n",
    "    print(\"NBA Finals Match Up\\n\", east[finals] ,\"vs\", west[finals])"
   ]
  },
  {
   "cell_type": "code",
   "execution_count": 98,
   "id": "55d94e5c-209f-4be8-a59e-86adbf9210ab",
   "metadata": {},
   "outputs": [
    {
     "data": {
      "text/plain": [
       "'Shitzu'"
      ]
     },
     "execution_count": 98,
     "metadata": {},
     "output_type": "execute_result"
    }
   ],
   "source": [
    "dogs = [\"Seberian Husky\", \"Golden Retriever\", \"Shitzu\", \"Pomeranian\"]\n",
    "\n",
    "rd.choice(dogs)"
   ]
  },
  {
   "cell_type": "code",
   "execution_count": 148,
   "id": "8e080846-e919-42df-9530-c030433c0e99",
   "metadata": {},
   "outputs": [
    {
     "data": {
      "text/plain": [
       "['Justin', 'Malik']"
      ]
     },
     "execution_count": 148,
     "metadata": {},
     "output_type": "execute_result"
    }
   ],
   "source": [
    "rating = [0.02, 0.5, 0.8, 0.01] #Defining the weights:\n",
    "\n",
    "students = [\"Zayn\", \"Justin\", \"Malik\",\"Bieber\"]\n",
    "\n",
    "rd.choices(students, rating, k = 2) #Choosing students with weights:\n"
   ]
  },
  {
   "cell_type": "code",
   "execution_count": 146,
   "id": "84a53407-bf4e-436a-9725-5097eb5cbbe0",
   "metadata": {},
   "outputs": [
    {
     "data": {
      "text/plain": [
       "[75, 64, 91, 74, 40, 61, 20, 70, 63, 9]"
      ]
     },
     "execution_count": 146,
     "metadata": {},
     "output_type": "execute_result"
    }
   ],
   "source": [
    "rd.sample(range(100), k = 10) # Generate a list of 10 unique random numbers from 0 to 99"
   ]
  },
  {
   "cell_type": "code",
   "execution_count": null,
   "id": "110078af-e8e1-42d6-b5db-4bf9afcca311",
   "metadata": {},
   "outputs": [],
   "source": []
  }
 ],
 "metadata": {
  "kernelspec": {
   "display_name": "Python 3 (ipykernel)",
   "language": "python",
   "name": "python3"
  },
  "language_info": {
   "codemirror_mode": {
    "name": "ipython",
    "version": 3
   },
   "file_extension": ".py",
   "mimetype": "text/x-python",
   "name": "python",
   "nbconvert_exporter": "python",
   "pygments_lexer": "ipython3",
   "version": "3.11.5"
  }
 },
 "nbformat": 4,
 "nbformat_minor": 5
}
