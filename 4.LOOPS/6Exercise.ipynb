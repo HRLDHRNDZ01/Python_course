{
 "cells": [
  {
   "cell_type": "markdown",
   "id": "a411c723-fc79-4729-a139-79a10265e361",
   "metadata": {},
   "source": [
    "TASK 1: CONVERT FOR LOOP INTO A WHILE LOOP"
   ]
  },
  {
   "cell_type": "code",
   "execution_count": 2,
   "id": "53207a7b-e26c-439e-8c97-bc3597855a9a",
   "metadata": {},
   "outputs": [
    {
     "data": {
      "text/plain": [
       "[0.0, 50.0, 100.0, 150.0, 200.0, 250.0]"
      ]
     },
     "execution_count": 2,
     "metadata": {},
     "output_type": "execute_result"
    }
   ],
   "source": [
    "#WORK WITH\n",
    "numbers = list(range(0, 110, 10))\n",
    "numbers = [0, 10, 20, 30, 40, 50, 60, 70, 80, 90, 100]\n",
    "first = []\n",
    "for num in numbers:\n",
    "    s = num *2.5\n",
    "    if s % 2 == 0:\n",
    "        first.append(s)\n",
    "\n",
    "first\n",
    "#DESIRED OUTPUT\n",
    "#[0, 50, 100, 150, 200, 250]\n"
   ]
  },
  {
   "cell_type": "code",
   "execution_count": null,
   "id": "53f36336-eaa8-4cb7-a2df-df249a9dc707",
   "metadata": {},
   "outputs": [],
   "source": [
    "x = 0\n",
    "second = []\n",
    "while x < len(numbers):\n",
    "    le x < len(numbers):\n",
    "    t = numbers[x] *2.5\n",
    "if t % 2 == 0:\n",
    "    second.append(t)\n",
    "    x += 1\n",
    "second"
   ]
  },
  {
   "cell_type": "code",
   "execution_count": null,
   "id": "9dc63d9b-6727-46f2-af17-4823b6e13a3b",
   "metadata": {},
   "outputs": [],
   "source": [
    "numbers = list(range(0, 110, 10))\n",
    "numbers\n",
    "first = []\n",
    "for num in numbers:\n",
    "s = num *2.5\n",
    "if s % 2 == 0:\n",
    "first.append(int(s))\n",
    "first\n"
   ]
  },
  {
   "cell_type": "markdown",
   "id": "279ee210-06c8-4e85-bd0e-cc6b5f5d43f4",
   "metadata": {},
   "source": [
    "HINTS?\n",
    "1. For the while loop, have x < len(numbers).\n",
    "2. The most import line of code in a while loop to prevent an INFINITE LOOP is x += 1.\n",
    "3. Create an empty list called second.\n",
    "4. Start with an initial value of 0.\n"
   ]
  },
  {
   "cell_type": "code",
   "execution_count": null,
   "id": "9cbee1b4-0231-4537-b0e3-4ac2ea75d6da",
   "metadata": {},
   "outputs": [],
   "source": []
  },
  {
   "cell_type": "code",
   "execution_count": null,
   "id": "0cb5752a-c771-4c2b-add6-9bba4736a879",
   "metadata": {},
   "outputs": [],
   "source": []
  }
 ],
 "metadata": {
  "kernelspec": {
   "display_name": "Python 3 (ipykernel)",
   "language": "python",
   "name": "python3"
  },
  "language_info": {
   "codemirror_mode": {
    "name": "ipython",
    "version": 3
   },
   "file_extension": ".py",
   "mimetype": "text/x-python",
   "name": "python",
   "nbconvert_exporter": "python",
   "pygments_lexer": "ipython3",
   "version": "3.11.5"
  }
 },
 "nbformat": 4,
 "nbformat_minor": 5
}
