{
 "cells": [
  {
   "cell_type": "markdown",
   "id": "a411c723-fc79-4729-a139-79a10265e361",
   "metadata": {},
   "source": [
    "TASK 1: CONVERT FOR LOOP INTO A WHILE LOOP"
   ]
  },
  {
   "cell_type": "markdown",
   "id": "279ee210-06c8-4e85-bd0e-cc6b5f5d43f4",
   "metadata": {},
   "source": [
    "HINTS?\n",
    "1. For the while loop, have x < len(numbers).\n",
    "2. The most import line of code in a while loop to prevent an INFINITE LOOP is x += 1.\n",
    "3. Create an empty list called second.\n",
    "4. Start with an initial value of 0.\n"
   ]
  },
  {
   "cell_type": "code",
   "execution_count": 1,
   "id": "9cbee1b4-0231-4537-b0e3-4ac2ea75d6da",
   "metadata": {},
   "outputs": [
    {
     "data": {
      "text/plain": [
       "[0.0, 50.0, 100.0, 150.0, 200.0, 250.0]"
      ]
     },
     "execution_count": 1,
     "metadata": {},
     "output_type": "execute_result"
    }
   ],
   "source": [
    "#WORK WITH\n",
    "numbers = list(range(0, 110, 10))\n",
    "numbers = [0, 10, 20, 30, 40, 50, 60, 70, 80, 90, 100]\n",
    "first = []\n",
    "for num in numbers:\n",
    "    s = num *2.5\n",
    "    if s % 2 == 0:\n",
    "        first.append(s)\n",
    "\n",
    "first\n",
    "#DESIRED OUTPUT\n",
    "#[0, 50, 100, 150, 200, 250]\n"
   ]
  },
  {
   "cell_type": "code",
   "execution_count": 2,
   "id": "0cb5752a-c771-4c2b-add6-9bba4736a879",
   "metadata": {},
   "outputs": [
    {
     "data": {
      "text/plain": [
       "[0, 50, 100, 150, 200, 250]"
      ]
     },
     "execution_count": 2,
     "metadata": {},
     "output_type": "execute_result"
    }
   ],
   "source": [
    "x = 0\n",
    "second = []\n",
    "while x < len(numbers):\n",
    "    t = numbers[x] *2.5\n",
    "    if t % 2 == 0:\n",
    "        second.append(int(t))\n",
    "    x += 1\n",
    "second\n"
   ]
  },
  {
   "cell_type": "markdown",
   "id": "0f585d1f-68d8-4996-aed8-31e01cab7ac9",
   "metadata": {},
   "source": [
    "TASK 2: USE LEN WITH CONTROL FLOW IN A FOR LOOP\n",
    "WORK WITH\n",
    "rep = [\"Joe\", \"K\", \"Mike\", \"Joi\", \"Luv\", \"Deckard\", \"Wallace\", \"Rache\n",
    "l\"]\n",
    "DESIRED OUTPUT\n",
    "Joe is a replicant\n",
    "Mike is NOT a replicant\n",
    "Joi is a replicant\n",
    "Luv is a replicant\n",
    "Deckard is NOT a replicant\n",
    "Wallace is NOT a replicant\n",
    "Rachel is a replicant\n",
    "HINTS?\n",
    "1. In the for loop, use the len function three times\n",
    "2. Use the print statement twice.\n",
    "3. The if statement requires three or operators.\n"
   ]
  },
  {
   "cell_type": "code",
   "execution_count": 3,
   "id": "a273c3e8-5858-4448-b8d4-0d69907eb049",
   "metadata": {},
   "outputs": [
    {
     "name": "stdout",
     "output_type": "stream",
     "text": [
      "Joe is a replicant\n",
      "Mike is NOT a replicant\n",
      "Joi is a replicant\n",
      "Luv is a replicant\n",
      "Deckard is NOT a replicant\n",
      "Wallace is NOT a replicant\n",
      "Rachel is a replicant\n"
     ]
    }
   ],
   "source": [
    "rep = [\"Joe\", \"Mike\", \"Joi\", \"Luv\", \"Deckard\", \"Wallace\", \"Rachel\"]\n",
    "\n",
    "for int_ in rep:\n",
    "    if len(int_) == 1 or len(int_) == 3 or len(int_) == 6:\n",
    "        print(int_, \"is a replicant\")\n",
    "    else:\n",
    "        print(int_, \"is NOT a replicant\")"
   ]
  },
  {
   "cell_type": "markdown",
   "id": "b0ac2685-6489-4a8a-a4db-9cc58d226313",
   "metadata": {},
   "source": [
    "TASK 3\n",
    "HINTS?\n",
    "Mike is NOT a replicant\n",
    "Joi is a replicant\n",
    "Luv is a replicant\n",
    "Deckard is NOT a replicant\n",
    "Wallace is NOT a replicant\n",
    "Rachel is a replicant\n",
    "HINTS?\n",
    "1. Use a for loop with range to repeat while loop\n",
    "2. Use k += 1 with while loop and k < 8.\n",
    "3. Use if, 2 elif statements, and an else statement in your while loop.\n",
    "4. Total of 6 different print statements. 4 are inside the while loop.\n"
   ]
  },
  {
   "cell_type": "code",
   "execution_count": 4,
   "id": "5450eb62-9052-44d9-ad5a-d6752d8f152f",
   "metadata": {},
   "outputs": [
    {
     "name": "stdout",
     "output_type": "stream",
     "text": [
      "Human\n",
      "Question\n",
      "CELL WITHIN CELLS\n",
      "Question\n",
      "INTERLINKED\n",
      "Question\n",
      "CELL\n",
      "Question\n",
      "CELL WITHIN CELLS\n",
      "Question\n",
      "CELL WITHIN CELLS\n",
      "Question\n",
      "INTERLINKED\n",
      "Question\n",
      "CELL\n",
      "Question\n",
      "CELL WITHIN CELLS\n",
      "Time to Finish\n"
     ]
    }
   ],
   "source": [
    "print(\"Human\")\n",
    "for r in range(2):\n",
    "    k = 0\n",
    "    while k < 8:\n",
    "            if k % 2 == 0:\n",
    "                print(\"Question\")\n",
    "            elif k > 3 and k < 7:\n",
    "                print(\"CELL\")\n",
    "            elif k == 3:\n",
    "                print(\"INTERLINKED\")\n",
    "            else:\n",
    "                print(\"CELL WITHIN CELLS\")\n",
    "            k+=1\n",
    "print(\"Time to Finish\")"
   ]
  },
  {
   "cell_type": "markdown",
   "id": "8a7a7a37-7a03-4621-94d3-1c7ff971db4e",
   "metadata": {},
   "source": [
    "TASK 4: NESTED FOR LOOP IN A WHILE LOOP\n",
    "WORK WITH\n",
    "print(\"Y =\", y)\n",
    "print(\"________\")\n",
    "print(\"X is equal to\", x)\n",
    "print(\"________\")\n",
    "DESIRED OUTPUT\n",
    "`python\n",
    "START\n",
    "Y = 0\n",
    "Human\n",
    "Question\n",
    "CELL WITHIN CELLS\n",
    "Question\n",
    "INTERLINKED\n",
    "Question\n",
    "CELL\n",
    "Question\n",
    "CELL WITHIN CELLS\n",
    "Question\n",
    "CELL WITHIN CELLS\n",
    "Question\n",
    "INTERLINKED\n",
    "Question\n",
    "CELL\n",
    "Question\n",
    "CELL WITHIN CELLS\n",
    "Time to Finish\n",
    "Y = 0\n",
    "________\n",
    "X is equal to 4\n",
    "________\n",
    "Y = 2\n",
    "________\n",
    "X is equal to 5\n",
    "________\n",
    "Y = 4\n",
    "________\n",
    "X is equal to 6\n",
    "________\n",
    "Y = 6\n",
    "________\n",
    "X is equal to 7\n",
    "________\n",
    "Y = 8\n",
    "________\n",
    "X is equal to 8\n",
    "________\n",
    "END\n",
    "HINTS?\n",
    "1. Code a nested for loop inside a while loop with y < 8.\n",
    "2. Initial values for y and x are 0\n",
    "3. Two print statements outside the while loop\n",
    "4. Use a range of 4 to 9 in the for loop.\n"
   ]
  },
  {
   "cell_type": "code",
   "execution_count": 1,
   "id": "afe0aa35-2d3e-4657-9c37-410b87b49b05",
   "metadata": {},
   "outputs": [
    {
     "name": "stdout",
     "output_type": "stream",
     "text": [
      "START\n",
      "Y = 0\n",
      "________\n",
      "X is equal to 4\n",
      "________\n",
      "Y = 2\n",
      "________\n",
      "X is equal to 5\n",
      "________\n",
      "Y = 4\n",
      "________\n",
      "X is equal to 6\n",
      "________\n",
      "Y = 6\n",
      "________\n",
      "X is equal to 7\n",
      "________\n",
      "Y = 8\n",
      "________\n",
      "X is equal to 8\n",
      "________\n",
      "END\n"
     ]
    }
   ],
   "source": [
    "x = 0\n",
    "y = 0\n",
    "print(\"START\")\n",
    "while y < 8:\n",
    "    for x in range(4, 9):\n",
    "        print(\"Y =\", y)\n",
    "        print(\"________\")\n",
    "        print(\"X is equal to\", x)\n",
    "        print(\"________\")\n",
    "        y += 2 ; x += 1\n",
    "print(\"END\")\n",
    "        "
   ]
  },
  {
   "cell_type": "markdown",
   "id": "014099bb-659c-48ff-88f8-c65f98d57ab0",
   "metadata": {},
   "source": [
    "TASK 5: FOR LOOP TO FIX STUDENT NAMES\n",
    "WORK WITH\n",
    "students = [\"nAtalie\", \"M\", \"Fa ye\", \" Callum\", \"Tara\"]\n",
    "DESIRED OUTPUT\n",
    "('NATALIE', 'FAYE', 'TARA', 'CALLUM')\n",
    "HINTS?\n",
    "1. Create an empty list.\n",
    "2. Use len built-in function.\n",
    "3. Use also the upper, replace and append methods for list\n",
    "4. Lastly, convert output to a tuple"
   ]
  },
  {
   "cell_type": "code",
   "execution_count": 25,
   "id": "3abd0d6d-f745-4542-8f8c-21ba233af169",
   "metadata": {},
   "outputs": [
    {
     "data": {
      "text/plain": [
       "('NATALIE', 'FAYE', 'CALLUM', 'TARA')"
      ]
     },
     "execution_count": 25,
     "metadata": {},
     "output_type": "execute_result"
    }
   ],
   "source": [
    "students = [\"nAtalie\", \"M\", \"Fa ye\", \" Callum\", \"Tara\"]\n",
    "\n",
    "names = []\n",
    "\n",
    "for lists in students:\n",
    "    if len(lists) > 1:\n",
    "        new = lists.upper().replace(\" \", \"\")\n",
    "        names.append(new)\n",
    "\n",
    "tuple(names)\n"
   ]
  },
  {
   "cell_type": "markdown",
   "id": "7f2a44c0-490f-475f-b5d3-e8ab6a6ec2b0",
   "metadata": {},
   "source": [
    "TASK 6: FOR LOOP WITH ADDED VALUES FROM DICTIONARY</center>\n",
    "WORK WITH\n",
    "d1 = {\"k1\": [20, 30, 40], \"k2\": [1000, 2000, 3000]}\n",
    "DESIRED OUTPUT\n",
    "Total = 1020\n",
    "Total = 2030\n",
    "Total = 3040\n",
    "HINTS?\n",
    "1. Use one for loop with range.\n",
    "2. Add the values from both keys together"
   ]
  },
  {
   "cell_type": "code",
   "execution_count": 5,
   "id": "01340d66-b9b5-415a-9d3d-2d778b5c51c5",
   "metadata": {},
   "outputs": [
    {
     "name": "stdout",
     "output_type": "stream",
     "text": [
      "Total =  1020\n",
      "Total =  2030\n",
      "Total =  3040\n",
      "End loop\n"
     ]
    }
   ],
   "source": [
    "d1 = {\"k1\": [20, 30, 40], \"k2\": [1000, 2000, 3000]}\n",
    "\n",
    "for cd in range(3):\n",
    "    print(\"Total = \", d1[\"k1\"][cd] + d1[\"k2\"][cd])\n",
    "\n",
    "print(\"End loop\")"
   ]
  },
  {
   "cell_type": "markdown",
   "id": "39010ceb-2def-4809-b804-05e9c0cc9935",
   "metadata": {},
   "source": [
    "TASK 7: WHILE LOOPS WITH THREE INPUTS\n",
    "DESIRED OUTPUT\n",
    "1st EXAMPLE\n",
    "Would you like popcorn with the film? no\n",
    "Would you like a soda drink? no\n",
    "Would you like a veggie burger?no\n",
    "That will be $0\n",
    "Enjoy the film!\n",
    "\n",
    "2nd EXAMPLE\n",
    "Would you like popcorn with the film? yes\n",
    "Would you like a soda drink? yes\n",
    "Would you like a veggie burger?no\n",
    "That will be $7\n",
    "Enjoy the film!\n",
    "\n",
    "3rd EXAMPLE\n",
    "Would you like popcorn with the film? quit\n",
    "Enjoy the film\n",
    "HINTS?\n",
    "1. Create two more inputs and name them num2 and num3.\n",
    "2. For num2, print would you like a soda? and for num3, print would you like a veggie burger?\n",
    "3. Use the append function three times by grabbing values from the prices dictionary.\n",
    "4. Use the break statement a total of 4 times.\n",
    "5. Make sure you have the += 1 to prevent an INFINITE LOOP!\n",
    "6. Use three else statements."
   ]
  },
  {
   "cell_type": "code",
   "execution_count": 27,
   "id": "01147aeb-b545-4399-9f3c-d218a7a147e5",
   "metadata": {},
   "outputs": [
    {
     "name": "stdin",
     "output_type": "stream",
     "text": [
      "Would you like popcorn with the film?  no\n",
      "Would you like a popcorn with a film? no\n",
      "Would you like a popcorn with the film? yes\n"
     ]
    },
    {
     "name": "stdout",
     "output_type": "stream",
     "text": [
      "That will be $7\n",
      "Enjoy the film!\n"
     ]
    }
   ],
   "source": [
    "prices = {\"popcorn\": 5, \"soda\": 2, \"veggie burger\": 7}\n",
    "total = []\n",
    "val = 0\n",
    "while val < 2:\n",
    "    num1 = input(\"Would you like popcorn with the film? \")\n",
    "    if num1 == \"no\":\n",
    "        None\n",
    "    elif num1 == \"quit\":\n",
    "        print(\"Enjoy the film\")\n",
    "        break\n",
    "    else:\n",
    "        total.append(prices[\"popcorn\"])\n",
    "\n",
    "    num2 = input(\"Would you like a popcorn with a film?\")\n",
    "    if num2 == \"no\":\n",
    "        None\n",
    "    elif num3 == \"quit\":\n",
    "        print(\"Enjoy the film\")\n",
    "        break\n",
    "    else:\n",
    "        total.append(prices[\"soda\"])\n",
    "\n",
    "    num3 = input(\"Would you like a popcorn with the film?\")\n",
    "    if num3 == \"no\":\n",
    "        None\n",
    "    elif num3 == \"quit\":\n",
    "        print(\"Enjoy the film\")\n",
    "        break\n",
    "    else:\n",
    "        total.append(prices[\"veggie burger\"])\n",
    "\n",
    "    val +=1\n",
    "\n",
    "    print(\"That will be $\" + str(sum(total)))\n",
    "    print(\"Enjoy the film!\")\n",
    "    break\n"
   ]
  },
  {
   "cell_type": "code",
   "execution_count": null,
   "id": "8228d608-5b97-4bac-a531-0bd0702b1bc5",
   "metadata": {},
   "outputs": [],
   "source": []
  },
  {
   "cell_type": "code",
   "execution_count": null,
   "id": "42501b4a-a3c3-415c-ab8d-99caf71538f5",
   "metadata": {},
   "outputs": [],
   "source": []
  }
 ],
 "metadata": {
  "kernelspec": {
   "display_name": "Python 3 (ipykernel)",
   "language": "python",
   "name": "python3"
  },
  "language_info": {
   "codemirror_mode": {
    "name": "ipython",
    "version": 3
   },
   "file_extension": ".py",
   "mimetype": "text/x-python",
   "name": "python",
   "nbconvert_exporter": "python",
   "pygments_lexer": "ipython3",
   "version": "3.11.5"
  }
 },
 "nbformat": 4,
 "nbformat_minor": 5
}
