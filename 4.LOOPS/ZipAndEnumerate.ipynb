{
 "cells": [
  {
   "cell_type": "markdown",
   "id": "5bd5fec5-a56c-459c-a06a-8ab81b32efcc",
   "metadata": {},
   "source": [
    "*ZIP can combine elements from two or more  list into nested loops\n",
    "\n",
    "*ENUMERATE can generate an integer number next to each output\n",
    "\n",
    "*BOTH can be replaced easily"
   ]
  },
  {
   "cell_type": "code",
   "execution_count": 1,
   "id": "9dfa7278-15ae-47a7-b150-e885f1d76e7f",
   "metadata": {},
   "outputs": [
    {
     "name": "stdout",
     "output_type": "stream",
     "text": [
      "10 1\n",
      "11 3\n",
      "12 5\n",
      "13 7\n",
      "14 9\n",
      "15 11\n",
      "16 13\n",
      "17 15\n",
      "18 17\n",
      "19 19\n"
     ]
    }
   ],
   "source": [
    "for place,race in enumerate(range(1, 21, 2),10):#range from 1 to 21 and increment by two.\n",
    "    print(place, race)\n",
    "# 10 - 19 is the enumerate output"
   ]
  },
  {
   "cell_type": "code",
   "execution_count": 2,
   "id": "050c09b0-3f48-4ab8-b0e5-2c075241955f",
   "metadata": {},
   "outputs": [
    {
     "name": "stdout",
     "output_type": "stream",
     "text": [
      "20 1\n",
      "22 3\n",
      "24 5\n",
      "26 7\n",
      "28 9\n",
      "30 11\n",
      "32 13\n",
      "34 15\n",
      "36 17\n",
      "38 19\n"
     ]
    }
   ],
   "source": [
    "for place in range(1, 21, 2):\n",
    "    print(19+place,place)"
   ]
  },
  {
   "cell_type": "code",
   "execution_count": 3,
   "id": "7a880964-e3a2-4778-bf73-7302d9c05f98",
   "metadata": {},
   "outputs": [
    {
     "name": "stdout",
     "output_type": "stream",
     "text": [
      "<zip object at 0x0000011EACFA28C0>\n"
     ]
    }
   ],
   "source": [
    "tupple = (20, 30, 40)\n",
    "listed = [50, 60, 70]\n",
    "\n",
    "ziped = zip(tupple, listed)\n",
    "print(ziped)"
   ]
  },
  {
   "cell_type": "code",
   "execution_count": 4,
   "id": "15607fb6-1a76-47bb-bc75-73475a349b23",
   "metadata": {},
   "outputs": [
    {
     "name": "stdout",
     "output_type": "stream",
     "text": [
      "[(1, 6), (2, 7), (3, 8), (4, 9), (5, 10)]\n"
     ]
    }
   ],
   "source": [
    "tupple2 = (1, 2, 3, 4, 5)\n",
    "mylist = [6, 7, 8, 9, 10]\n",
    "\n",
    "# Ensure list has not been redefined\n",
    "zoo = list(zip(tupple2, mylist))\n",
    "\n",
    "print(zoo)\n"
   ]
  },
  {
   "cell_type": "code",
   "execution_count": 5,
   "id": "3ef79c75-8819-4ffd-8929-6c5dc1135a45",
   "metadata": {},
   "outputs": [
    {
     "data": {
      "text/plain": [
       "list"
      ]
     },
     "execution_count": 5,
     "metadata": {},
     "output_type": "execute_result"
    }
   ],
   "source": [
    "type(zoo)"
   ]
  },
  {
   "cell_type": "code",
   "execution_count": 6,
   "id": "b853d1ac-6102-4586-bc64-9d9bf3e154dc",
   "metadata": {},
   "outputs": [
    {
     "name": "stdout",
     "output_type": "stream",
     "text": [
      "7\n",
      "9\n",
      "11\n",
      "13\n",
      "15\n"
     ]
    }
   ],
   "source": [
    "#adding all the elements from tuple and list  together to generate the output \n",
    "for plus, minus in zoo:\n",
    "    print(plus + minus)"
   ]
  },
  {
   "cell_type": "code",
   "execution_count": 7,
   "id": "301dabf5-e90b-4164-85f0-12b182eafc94",
   "metadata": {},
   "outputs": [
    {
     "name": "stdout",
     "output_type": "stream",
     "text": [
      "7\n",
      "9\n",
      "11\n",
      "13\n",
      "15\n"
     ]
    }
   ],
   "source": [
    "#equivalent it without a zip like the example above\n",
    "for output in range(5): #range is 5 since it has 5 elemeents\n",
    "    print(tupple2[output] + mylist[output])"
   ]
  },
  {
   "cell_type": "code",
   "execution_count": 8,
   "id": "e1ef0615-e4c7-4977-b7d8-4a7c81f0387a",
   "metadata": {},
   "outputs": [
    {
     "name": "stdout",
     "output_type": "stream",
     "text": [
      "cake = 220.0\n",
      "ice cream = 50.0\n",
      "shake = 65.0\n"
     ]
    }
   ],
   "source": [
    "#equivalent it without a zip\n",
    "dessert = [\"cake\", \"ice cream\", \"shake\"]\n",
    "prices = [220, 50, 65]\n",
    "\n",
    "for food in range(3):\n",
    "    print(dessert[food], \"=\", float(prices[food]))"
   ]
  },
  {
   "cell_type": "code",
   "execution_count": 9,
   "id": "ffba6d23-21a1-4489-a93e-57980f69f2f6",
   "metadata": {},
   "outputs": [
    {
     "name": "stdout",
     "output_type": "stream",
     "text": [
      "cake = 220\n",
      "ice cream = 50\n",
      "shake = 65\n"
     ]
    }
   ],
   "source": [
    "#equivalent it with a zip and desired output like example above\n",
    "ziped_food = list(zip(dessert, prices))\n",
    "ziped_food\n",
    "\n",
    "for one, two in ziped_food:\n",
    "    print(one, \"=\", two)"
   ]
  },
  {
   "cell_type": "code",
   "execution_count": 10,
   "id": "6f75716b-b5db-4c29-9d31-c5068b2bf1e5",
   "metadata": {},
   "outputs": [
    {
     "name": "stdout",
     "output_type": "stream",
     "text": [
      "250  is greater than 100\n",
      "24  is less than 35\n",
      "120  is greater than 80\n",
      "23  is less than 27\n",
      "150 and 150 are equal\n"
     ]
    }
   ],
   "source": [
    "hello = [250 ,24, 120, 23, 150]\n",
    "world = [100, 35, 80, 27, 150]\n",
    "\n",
    "# Creating a zip object to pair elements from both lists\n",
    "ziped_hw = zip(hello, world)\n",
    "\n",
    "# Iterating through each pair in the zip object\n",
    "for ice, fire in ziped_hw:\n",
    "    # Comparing the elements of the pairs\n",
    "    if ice > fire:\n",
    "        print(ice, \" is greater than\", fire)\n",
    "    elif ice < fire:\n",
    "        print(ice, \" is less than\", fire)\n",
    "    elif ice == fire:\n",
    "        print(ice, \"and\", fire, \"are equal\")\n",
    "    "
   ]
  },
  {
   "cell_type": "code",
   "execution_count": 11,
   "id": "b668baaf-bf93-462c-b657-b8b17094e35b",
   "metadata": {},
   "outputs": [
    {
     "name": "stdout",
     "output_type": "stream",
     "text": [
      "250  is greater than 100\n",
      "24  is less than 35\n",
      "120  is greater than 80\n",
      "23  is less than 27\n",
      "150 and 150 are equal\n"
     ]
    }
   ],
   "source": [
    "# Compare elements at each index and print the result without zip same example as above that used zip\n",
    "hello = [250 ,24, 120, 23, 150]\n",
    "world = [100, 35, 80, 27, 150]\n",
    "\n",
    "for see in range(len(hello)): # Iterate over the index range of the lists\n",
    "    if hello[see] > world[see]: # Compare elements at the current index\n",
    "        print(hello[see], \" is greater than\", world[see])\n",
    "    elif hello[see] < world[see]: # Compare elements at the current index\n",
    "        print(hello[see], \" is less than\", world[see])\n",
    "    elif hello[see] == world[see]:\n",
    "        print(\"{} and {} are equal\".format(hello[see],world[see]))"
   ]
  },
  {
   "cell_type": "code",
   "execution_count": 16,
   "id": "79d584d2-0ee1-44a8-b92f-4d18c98b5447",
   "metadata": {},
   "outputs": [
    {
     "name": "stdout",
     "output_type": "stream",
     "text": [
      "250\n",
      "35\n",
      "120\n",
      "27\n",
      "150 150\n"
     ]
    }
   ],
   "source": [
    "# Iterate over indices from 0 to 4\n",
    "for ball in range(5): # Loop through the indices of the lists\n",
    "    # Compare elements at the current index\n",
    "    if hello[ball] > world[ball]: # If the element in hello is greater \n",
    "        print(hello[ball]) #it will print the elemnet from hello\n",
    "    elif hello[ball] < world[ball]:  # If the element in world is greater\n",
    "        print(world[ball])  # Print the element from world\n",
    "    else:  # If the elements are equal\n",
    "        print(hello[ball],world[ball]) # Print both elements"
   ]
  },
  {
   "cell_type": "code",
   "execution_count": 43,
   "id": "b9424be5-12f3-4017-977b-3caeb7d46234",
   "metadata": {},
   "outputs": [
    {
     "data": {
      "text/plain": [
       "[(20, 2, 4), (25, 2, 4), (30, 2, 4), (35, 2, 4), (40, 2, 4)]"
      ]
     },
     "execution_count": 43,
     "metadata": {},
     "output_type": "execute_result"
    }
   ],
   "source": [
    "value"
   ]
  },
  {
   "cell_type": "code",
   "execution_count": 46,
   "id": "20d4cf04-4c29-4e79-8853-c302ad462ac1",
   "metadata": {},
   "outputs": [
    {
     "data": {
      "text/plain": [
       "[40, 80, 50, 100, 60, 120, 70, 140, 80, 160]"
      ]
     },
     "execution_count": 46,
     "metadata": {},
     "output_type": "execute_result"
    }
   ],
   "source": [
    "import itertools # Import the itertools module\n",
    "from itertools import cycle as cy  # Import the cycle function from itertools and alias it as cy \n",
    "\n",
    "first = list(range(20, 41, 5)) # Create a list of numbers from 20 to 40 with a step of 5: [20, 25, 30, 35, 40]\n",
    "second = [2, 4] #disregarded\n",
    "sec1 = [2]  # A list with one element\n",
    "sec2 = [4]  # Another list with one element\n",
    "\n",
    "value = list(zip(first, cy(sec1),cy(sec2))) # Create a list of tuples by zipping the 'first' list with the cycled 'sec1' and 'sec2' lists\n",
    "\n",
    "\n",
    "cal = [] # Initialize an empty list to store calculation results\n",
    "for one, two, three in value:\n",
    "    ans1 = one * two # Multiply the first and second elements of the tuple\n",
    "    ans2 = one * three # Multiply the first and third elements of the tuple\n",
    "    cal.append(ans1) # Append the first result to the cal list\n",
    "    cal.append(ans2) # Append the second result to the cal list cal.append(ans2)\n",
    "    \n",
    "cal # Print the final list of calculations       "
   ]
  },
  {
   "cell_type": "code",
   "execution_count": null,
   "id": "130510e9-9f23-4067-b024-d34b9749c3ce",
   "metadata": {},
   "outputs": [],
   "source": []
  }
 ],
 "metadata": {
  "kernelspec": {
   "display_name": "Python 3 (ipykernel)",
   "language": "python",
   "name": "python3"
  },
  "language_info": {
   "codemirror_mode": {
    "name": "ipython",
    "version": 3
   },
   "file_extension": ".py",
   "mimetype": "text/x-python",
   "name": "python",
   "nbconvert_exporter": "python",
   "pygments_lexer": "ipython3",
   "version": "3.11.5"
  }
 },
 "nbformat": 4,
 "nbformat_minor": 5
}
