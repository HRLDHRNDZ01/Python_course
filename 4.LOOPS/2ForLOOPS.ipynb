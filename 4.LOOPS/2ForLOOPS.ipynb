{
 "cells": [
  {
   "cell_type": "markdown",
   "id": "7670904f-904e-4107-8400-45bc5db479a4",
   "metadata": {},
   "source": [
    "Similar  for a loop , while loop element output each  element, but based on a while statement being True.\n",
    "Once the while statement is no longer true , the while loop ends."
   ]
  },
  {
   "cell_type": "code",
   "execution_count": 6,
   "id": "e23c66f7-81d9-48ba-a777-228947e28150",
   "metadata": {},
   "outputs": [
    {
     "name": "stdout",
     "output_type": "stream",
     "text": [
      "0\n",
      "1\n",
      "2\n",
      "3\n",
      "4\n",
      "5\n",
      "6\n",
      "7\n",
      "8\n",
      "9\n",
      "10\n"
     ]
    }
   ],
   "source": [
    "x = 0\n",
    "while x <= 10:\n",
    "    print(x)\n",
    "    x += 1"
   ]
  },
  {
   "cell_type": "code",
   "execution_count": 8,
   "id": "6d6870d6-4741-4222-921a-764b1b17ca7f",
   "metadata": {},
   "outputs": [
    {
     "name": "stdout",
     "output_type": "stream",
     "text": [
      "20\n",
      "22\n",
      "24\n",
      "26\n",
      "28\n",
      "30\n"
     ]
    }
   ],
   "source": [
    "x = 20\n",
    "while x <= 30:\n",
    "    print(x)\n",
    "    x += 2"
   ]
  },
  {
   "cell_type": "code",
   "execution_count": 2,
   "id": "02d3c561-e619-4d3c-8fdc-c30e2d7e35e0",
   "metadata": {},
   "outputs": [
    {
     "name": "stdout",
     "output_type": "stream",
     "text": [
      "Hey, the answer is! 10\n",
      "Hey, the answer is! 12\n",
      "Hey, the answer is! 14\n",
      "Hey, the answer is! 16\n",
      "Hey, the answer is! 18\n"
     ]
    }
   ],
   "source": [
    "brod = 10 #from range 10 it will incriment by 2 then display Hey!\n",
    "while brod < 20:\n",
    "    print(\"Hey, the answer is!\",brod)\n",
    "    brod += 2"
   ]
  },
  {
   "cell_type": "code",
   "execution_count": 14,
   "id": "6961b714-520f-4957-90b2-8f45c8b2463b",
   "metadata": {},
   "outputs": [
    {
     "name": "stdout",
     "output_type": "stream",
     "text": [
      "Your ball number is:  10\n",
      "Your ball number is:  12\n",
      "Your ball number is:  14\n",
      "Your ball number is:  16\n",
      "Your ball number is:  18\n",
      "Your ball number is:  20\n"
     ]
    }
   ],
   "source": [
    "ball = 10 #from range 10 it will incriment by 2 then display the strring \"Your ball number is:\" and the range 10 incriment by until it reaches 20\n",
    "while ball <= 20:\n",
    "    print(\"Your ball number is: \",ball)\n",
    "    ball += 2"
   ]
  },
  {
   "cell_type": "code",
   "execution_count": 21,
   "id": "b854110b-796c-45a6-83f4-499b68dcfbf3",
   "metadata": {},
   "outputs": [
    {
     "name": "stdout",
     "output_type": "stream",
     "text": [
      "The answer will be:  200\n",
      "The answer will be:  100.0\n",
      "The answer will be:  50.0\n",
      "The answer will be:  25.0\n"
     ]
    }
   ],
   "source": [
    "# Start with the value 200\n",
    "# This loop will divide the value of 'division' by 2 each time\n",
    "# and display the string \"The answer will be:\" followed by the current value of 'division'.\n",
    "# The loop stops when the value of 'division' becomes 20 or less.\n",
    "division = 200\n",
    "while division > 20:\n",
    "    print(\"The answer will be: \", division)\n",
    "    division /= 2"
   ]
  },
  {
   "cell_type": "code",
   "execution_count": 23,
   "id": "60406358-6672-47d3-be53-99435c151634",
   "metadata": {},
   "outputs": [
    {
     "name": "stdout",
     "output_type": "stream",
     "text": [
      "4  : is even number\n",
      "8  : is even number\n",
      "16  : is even number\n",
      "32  : is even number\n",
      "64  : is even number\n",
      "128  : is even number\n",
      "256  : is even number\n"
     ]
    }
   ],
   "source": [
    "# Start with the value 4\n",
    "# This loop will divide the value of 'pizza' by 2 each time\n",
    "# and display the current value of 'pizza' followed by thge string \": is even number\" \n",
    "# The loop stops when the value of 'division' becomes 20 or less.\n",
    "pizza = 4\n",
    "while pizza < 300:\n",
    "    print(pizza,\" : is even number\")\n",
    "    pizza *= 2"
   ]
  },
  {
   "cell_type": "code",
   "execution_count": 29,
   "id": "e4f11b5e-9961-4a03-b3c8-c59114e20371",
   "metadata": {},
   "outputs": [
    {
     "name": "stdout",
     "output_type": "stream",
     "text": [
      "Timer:  20 seconds\n",
      "Timer:  18 seconds\n",
      "Timer:  16 seconds\n",
      "Timer:  14 seconds\n",
      "Timer:  12 seconds\n",
      "Timer:  10 seconds\n",
      "Timer:  8 seconds\n",
      "Timer:  6 seconds\n",
      "Timer:  4 seconds\n",
      "Timer:  2 seconds\n",
      "Time is off now!\n"
     ]
    }
   ],
   "source": [
    "# This loop will subtract 2 from 'subtraction' each time\n",
    "# and display the string \"Timer: \" followed by the current value of 'subtraction' and \"seconds\".\n",
    "# When 'subtraction' becomes 0 or less, it prints \"Time is off now!\" and exits.\n",
    "subtraction = 20\n",
    "while subtraction > 0:\n",
    "    print(\"Timer: \", str(subtraction), \"seconds\")\n",
    "    \n",
    "    subtraction-=2\n",
    "\n",
    "    if subtraction <= 0:\n",
    "        print(\"Time is off now!\")"
   ]
  },
  {
   "cell_type": "code",
   "execution_count": 8,
   "id": "dab3115a-a3b8-4fb4-bdc0-6dcb6af27e63",
   "metadata": {},
   "outputs": [
    {
     "name": "stdout",
     "output_type": "stream",
     "text": [
      "0 + 0 = 0\n",
      "1 + 1 = 2\n",
      "2 + 2 = 4\n",
      "3 + 3 = 6\n",
      "4 + 4 = 8\n",
      "5 + 5 = 10\n",
      "6 + 6 = 12\n",
      "7 + 7 = 14\n",
      "8 + 8 = 16\n",
      "9 + 9 = 18\n",
      "10 + 10 = 20\n"
     ]
    }
   ],
   "source": [
    "# Loop through each value of 'primary' from 0 to 10, printing its double using format method.\n",
    "primary = 0\n",
    "while primary <= 10:\n",
    "    print(\"{} + {} = {}\".format(primary, primary,(primary + primary)))\n",
    "   \n",
    "    primary += 1\n"
   ]
  },
  {
   "cell_type": "code",
   "execution_count": 10,
   "id": "8dc58aef-6153-4ef4-ac39-712ae465500c",
   "metadata": {},
   "outputs": [
    {
     "name": "stdout",
     "output_type": "stream",
     "text": [
      "1 + 1= 2\n",
      "3 + 3= 6\n",
      "5 + 5= 10\n",
      "7 + 7= 14\n",
      "9 + 9= 18\n",
      "11 + 11= 22\n"
     ]
    }
   ],
   "source": [
    "# Initialize the variable 'primary' to 1 using percent formatting to display it\n",
    "primary = 1 \n",
    "while primary <= 12:\n",
    "    print(\"%d + %d= %d\"%(primary, primary,(primary + primary)))\n",
    "   \n",
    "    primary += 2\n"
   ]
  },
  {
   "cell_type": "code",
   "execution_count": 21,
   "id": "8d743d20-1443-41d3-a005-10bbd01b14b0",
   "metadata": {},
   "outputs": [
    {
     "name": "stdout",
     "output_type": "stream",
     "text": [
      "20 / 10.000000 = 2\n",
      "21 / 11.000000 = 1\n",
      "22 / 12.000000 = 1\n",
      "23 / 13.000000 = 1\n",
      "24 / 14.000000 = 1\n"
     ]
    }
   ],
   "source": [
    "first = 20; second = 10 #Initial value of the first and second variable\n",
    "\n",
    "# While loop continues as long as both conditions are true:\n",
    "# 1. 'first' is less than 25\n",
    "# 2. 'second' is less than 15\n",
    "while first < 25 and second < 15:\n",
    "    print(\"%i / %f = %i\" %(first, second, (first/second)))\n",
    "\n",
    "    # Increment 'first' by 1\n",
    "    # This will eventually make 'first' equal to 25 and 'second' equal to 15, ending the loop\n",
    "    first += 1;second += 1"
   ]
  },
  {
   "cell_type": "code",
   "execution_count": 32,
   "id": "0639b90a-f63d-4660-9448-0d1ca57b1296",
   "metadata": {},
   "outputs": [
    {
     "name": "stdout",
     "output_type": "stream",
     "text": [
      "10 + 15 + 25 = 50\n",
      "11 + 16 + 26 = 53\n",
      "12 + 17 + 27 = 56\n",
      "13 + 18 + 28 = 59\n",
      "14 + 19 + 29 = 62\n",
      "15 + 20 + 30 = 65\n",
      "16 + 21 + 31 = 68\n",
      "17 + 22 + 32 = 71\n",
      "18 + 23 + 33 = 74\n",
      "19 + 24 + 34 = 77\n"
     ]
    }
   ],
   "source": [
    "#using nested while loop\n",
    "caramel = 10; chocolate = 15; vanilla = 25\n",
    "while caramel < 20:\n",
    "    while chocolate < 25:\n",
    "        while vanilla < 35:\n",
    "            print(\"{0} + {1} + {2} = {3}\".format(caramel, chocolate, vanilla,(caramel + chocolate + vanilla)))\n",
    "\n",
    "            caramel +=1; chocolate +=1; vanilla +=1"
   ]
  },
  {
   "cell_type": "code",
   "execution_count": 45,
   "id": "164f383c-4cfa-43a5-9140-db6a52a0fd0a",
   "metadata": {},
   "outputs": [
    {
     "name": "stdout",
     "output_type": "stream",
     "text": [
      "Miami Heat\n",
      "Golden State Warriors\n",
      "Dallas Mavericks\n",
      "Denver Nuggets\n",
      "Boston CelticsMilwaukee Bucks\n",
      "Chicago Bulls\n",
      "Oklahoma City Thunder\n",
      "Portland Trail Blazers\n",
      "Minessota Timberwolves\n",
      "Los Angeles Lakers\n",
      "Los Angeles Clippers\n"
     ]
    }
   ],
   "source": [
    "#displaying all the index inside the team dictionary by using while loop and converting the variable team into len for while loop condition\n",
    "team = [\"Miami Heat\", \"Golden State Warriors\", \"Dallas Mavericks\", \"Denver Nuggets\", \"Boston Celtics\" \"Milwaukee Bucks\",\n",
    "        \"Chicago Bulls\", \"Oklahoma City Thunder\", \"Portland Trail Blazers\", \"Minessota Timberwolves\", \"Los Angeles Lakers\", \"Los Angeles Clippers\"]\n",
    "\n",
    "# Initialize the counter\n",
    "nba = 0\n",
    "\n",
    "# Loop through the list using while loop\n",
    "while nba < len(team):\n",
    "    print(team[nba])\n",
    "\n",
    "    nba +=1"
   ]
  },
  {
   "cell_type": "code",
   "execution_count": 46,
   "id": "971ea74f-13d7-44ac-afd9-c1109e68abb3",
   "metadata": {},
   "outputs": [
    {
     "name": "stdout",
     "output_type": "stream",
     "text": [
      "0\n",
      "1\n",
      "2\n",
      "3\n",
      "4\n"
     ]
    }
   ],
   "source": [
    "a = 0 \n",
    "while a < 5:\n",
    "    print(a)\n",
    "\n",
    "    a+=1"
   ]
  },
  {
   "cell_type": "code",
   "execution_count": 47,
   "id": "61c4533c-147b-4053-92aa-61254bff7c3d",
   "metadata": {},
   "outputs": [
    {
     "name": "stdout",
     "output_type": "stream",
     "text": [
      "0\n",
      "1\n",
      "2\n",
      "3\n",
      "4\n"
     ]
    }
   ],
   "source": [
    "#converting while loop into for loop\n",
    "for a in range(5):\n",
    "    print(a)"
   ]
  },
  {
   "cell_type": "code",
   "execution_count": 48,
   "id": "80b014d8-960c-4ec0-a587-837e359df966",
   "metadata": {},
   "outputs": [
    {
     "name": "stdout",
     "output_type": "stream",
     "text": [
      "1 + 1 = 2\n",
      "2 + 2 = 4\n",
      "3 + 3 = 6\n",
      "4 + 4 = 8\n"
     ]
    }
   ],
   "source": [
    "a = 1; b =1;\n",
    "\n",
    "while a < 5:\n",
    "    while b < 5:\n",
    "        print(\"{} + {} = {}\".format(a,a, b +a))\n",
    "\n",
    "        a+=1\n",
    "        b+=1"
   ]
  },
  {
   "cell_type": "code",
   "execution_count": 53,
   "id": "60d7409e-8812-450a-bfb3-4ee33daf5547",
   "metadata": {},
   "outputs": [
    {
     "name": "stdout",
     "output_type": "stream",
     "text": [
      "1 + 1 = 2\n",
      "1 + 2 = 3\n",
      "1 + 3 = 4\n",
      "1 + 4 = 5\n",
      "2 + 1 = 3\n",
      "2 + 2 = 4\n",
      "2 + 3 = 5\n",
      "2 + 4 = 6\n",
      "3 + 1 = 4\n",
      "3 + 2 = 5\n",
      "3 + 3 = 6\n",
      "3 + 4 = 7\n",
      "4 + 1 = 5\n",
      "4 + 2 = 6\n",
      "4 + 3 = 7\n",
      "4 + 4 = 8\n"
     ]
    }
   ],
   "source": [
    "for d in range(1, 5):\n",
    "    for e in range (1, 5):\n",
    "        print(\"{} + {} = {}\".format(d, e, d + e))\n",
    "              "
   ]
  },
  {
   "cell_type": "code",
   "execution_count": 54,
   "id": "d08f9a58-9a98-4a47-885c-83067e67cc43",
   "metadata": {},
   "outputs": [
    {
     "name": "stdout",
     "output_type": "stream",
     "text": [
      "1 + 1 = 2\n",
      "2 + 2 = 4\n",
      "3 + 3 = 6\n",
      "4 + 4 = 8\n"
     ]
    }
   ],
   "source": [
    "#Converting nested while loop into for loop\n",
    "for f in range(1, 5):\n",
    "    print(\"{} + {} = {}\".format(f,f,f+f))\n"
   ]
  },
  {
   "cell_type": "code",
   "execution_count": 5,
   "id": "43c7b942-13c4-4571-8d64-3d2c0f742566",
   "metadata": {},
   "outputs": [
    {
     "name": "stdout",
     "output_type": "stream",
     "text": [
      "First three years of championships:  1991\n",
      "12225 total fans\n",
      "13291 total fans\n",
      "14203 total fans\n",
      "First three years of championships:  1992\n",
      "12226 total fans\n",
      "13292 total fans\n",
      "14204 total fans\n",
      "First three years of championships:  1993\n",
      "12227 total fans\n",
      "13293 total fans\n",
      "14205 total fans\n"
     ]
    }
   ],
   "source": [
    "# using for loop nested in while loop\n",
    "\n",
    "bulls = 1991\n",
    "\n",
    "while bulls < 1994:\n",
    "    print(\"First three years of championships: \", bulls)\n",
    "    rosters = {\"roster1\": [\"Kerr\", \"Rodaman\", \"Pippen\"],\"roster2\": [\"Kerr\", \"Rodaman\", \"Pippen\"],\"roster3\": [\"Kerr\", \"Rodaman\", \"Pippen\"]}\n",
    "    for fans in [10234, 11300, 12212]:\n",
    "        support = fans + bulls\n",
    "        print(support, \"total fans\")\n",
    "\n",
    "    bulls += 1"
   ]
  },
  {
   "cell_type": "code",
   "execution_count": null,
   "id": "0cd8b11d-ed74-4aee-8cc8-1b19b129b39d",
   "metadata": {},
   "outputs": [],
   "source": []
  }
 ],
 "metadata": {
  "kernelspec": {
   "display_name": "Python 3 (ipykernel)",
   "language": "python",
   "name": "python3"
  },
  "language_info": {
   "codemirror_mode": {
    "name": "ipython",
    "version": 3
   },
   "file_extension": ".py",
   "mimetype": "text/x-python",
   "name": "python",
   "nbconvert_exporter": "python",
   "pygments_lexer": "ipython3",
   "version": "3.11.5"
  }
 },
 "nbformat": 4,
 "nbformat_minor": 5
}
