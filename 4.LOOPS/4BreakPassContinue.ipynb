{
 "cells": [
  {
   "cell_type": "code",
   "execution_count": 3,
   "id": "986b41cc-5276-4833-a750-83f48956f6b6",
   "metadata": {},
   "outputs": [
    {
     "name": "stdout",
     "output_type": "stream",
     "text": [
      "11\n",
      "12\n",
      "13\n",
      "14\n",
      "15\n"
     ]
    }
   ],
   "source": [
    "#example uisng for loop with nested if statement\n",
    "for example in range(50):\n",
    "    if example > 10 and example <= 15:\n",
    "        if example == 16:\n",
    "            pass #pss prevents a code from being run at all\n",
    "\n",
    "        print(example)"
   ]
  },
  {
   "cell_type": "code",
   "execution_count": 13,
   "id": "301057e6-761f-464d-a2ea-6bfbb0c0002d",
   "metadata": {},
   "outputs": [
    {
     "name": "stdout",
     "output_type": "stream",
     "text": [
      "m\n",
      "a\n",
      "t\n",
      "h\n",
      "e\n",
      "m\n",
      "a\n",
      "T\n",
      "i\n",
      "c\n",
      "s\n"
     ]
    }
   ],
   "source": [
    "for word in \"mathemaTics\":\n",
    "    if word == \"T\":\n",
    "        pass #if it use break, it will display the letters from the beghging up to the last letter before the\"T.\n",
    "        #if it uses continue it will display all letters except \"T\"\"\n",
    "        # If `pass` is used, it will do nothing for \"T\" and display all letters including \"T\" \n",
    "    print(word)"
   ]
  },
  {
   "cell_type": "code",
   "execution_count": null,
   "id": "297ecc33-cd12-46d3-bc7f-7a27a6e34b74",
   "metadata": {},
   "outputs": [],
   "source": []
  }
 ],
 "metadata": {
  "kernelspec": {
   "display_name": "Python 3 (ipykernel)",
   "language": "python",
   "name": "python3"
  },
  "language_info": {
   "codemirror_mode": {
    "name": "ipython",
    "version": 3
   },
   "file_extension": ".py",
   "mimetype": "text/x-python",
   "name": "python",
   "nbconvert_exporter": "python",
   "pygments_lexer": "ipython3",
   "version": "3.11.5"
  }
 },
 "nbformat": 4,
 "nbformat_minor": 5
}
