{
 "cells": [
  {
   "cell_type": "code",
   "execution_count": 1,
   "id": "3aa76f4c-59b3-476b-bcc5-d651647a07e1",
   "metadata": {},
   "outputs": [
    {
     "name": "stdout",
     "output_type": "stream",
     "text": [
      "Steph Curry for three!\n",
      "Steph Curry for three!\n",
      "Steph Curry for three!\n",
      "Steph Curry for three!\n",
      "Steph Curry for three!\n"
     ]
    }
   ],
   "source": [
    "for curry in range(5):\n",
    "    print(\"Steph Curry for three!\")"
   ]
  },
  {
   "cell_type": "code",
   "execution_count": 2,
   "id": "57fd262a-e501-4bf1-88b8-13adddd43366",
   "metadata": {},
   "outputs": [
    {
     "name": "stdout",
     "output_type": "stream",
     "text": [
      "False\n",
      "False\n",
      "False\n",
      "False\n"
     ]
    }
   ],
   "source": [
    "language = [\"Python\", \"C\", \"JavaScript\", \"C#\"]\n",
    "for lng in language:\n",
    "    print(lng in range(1))"
   ]
  },
  {
   "cell_type": "code",
   "execution_count": 3,
   "id": "9345ce22-3156-4009-8191-b008d5a6f722",
   "metadata": {},
   "outputs": [
    {
     "name": "stdout",
     "output_type": "stream",
     "text": [
      "Python\n",
      "C\n",
      "JavaScript\n",
      "C#\n"
     ]
    }
   ],
   "source": [
    "for lng in language:\n",
    "    print(lng)"
   ]
  },
  {
   "cell_type": "code",
   "execution_count": 4,
   "id": "8098a4ba-555d-473e-b177-defa1e37e339",
   "metadata": {},
   "outputs": [
    {
     "name": "stdout",
     "output_type": "stream",
     "text": [
      "0 2\n",
      "1 3\n",
      "2 4\n",
      "3 5\n",
      "4 6\n",
      "5 7\n",
      "6 8\n",
      "7 9\n",
      "8 10\n",
      "9 11\n"
     ]
    }
   ],
   "source": [
    "for incriment  in range(10): \n",
    "    print(incriment, incriment + 2)#incriments starts from two then additionally increase by 1 in range"
   ]
  },
  {
   "cell_type": "code",
   "execution_count": 5,
   "id": "8846d01c-52f3-4f22-af0c-ddb011de6994",
   "metadata": {},
   "outputs": [
    {
     "name": "stdout",
     "output_type": "stream",
     "text": [
      "{3: 'Miami'}\n",
      "{6: 'Cavaliers'}\n",
      "{8: 'Chicago'}\n"
     ]
    }
   ],
   "source": [
    "wade =[{3:\"Miami\"},{6:\"Cavaliers\"},{8:\"Chicago\"}]#list of dictionaries\n",
    "\n",
    "for flash in range(3):\n",
    "    print(wade[flash])\n"
   ]
  },
  {
   "cell_type": "code",
   "execution_count": 6,
   "id": "2474b154-0b37-41a2-9a4d-dc6b105ad2e9",
   "metadata": {},
   "outputs": [
    {
     "name": "stdout",
     "output_type": "stream",
     "text": [
      "[1, 2, 3]\n",
      "[4, 5, 6]\n",
      "['flash', 'dwayne', 'wade']\n"
     ]
    }
   ],
   "source": [
    "wade = [[1,2,3],[4,5,6], [\"flash\", \"dwayne\", \"wade\"]] #list of list\n",
    "for w in range(3):\n",
    "    print(wade[w])"
   ]
  },
  {
   "cell_type": "code",
   "execution_count": 7,
   "id": "e6b1d5cd-93ab-44e8-b198-cc29ca1bb144",
   "metadata": {},
   "outputs": [
    {
     "name": "stdout",
     "output_type": "stream",
     "text": [
      "Flash:Odds of +- in three teams:  5\n",
      "Dwayne:Odds of +- in three teams:  7\n",
      "Wade:Odds of +- in three teams:  9\n"
     ]
    }
   ],
   "source": [
    "for w in range(3):\n",
    "    DW = wade[0][w] + wade[1][w] #adds the intigers in range 0 and 1\n",
    "\n",
    "    print(wade[2][w].capitalize() + \":Odds of +- in three teams: \", DW)#use capitalize function to capitalize the string inside the list of [2] then add it to the DW"
   ]
  },
  {
   "cell_type": "code",
   "execution_count": 8,
   "id": "b81678c6-7b16-4cd1-8fbd-bd4ec309b0ff",
   "metadata": {},
   "outputs": [
    {
     "data": {
      "text/plain": [
       "['Flash :These are the names that Dwyane Wade has: 5',\n",
       " 'Dwayne :These are the names that Dwyane Wade has: 7',\n",
       " 'Wade :These are the names that Dwyane Wade has: 9']"
      ]
     },
     "execution_count": 8,
     "metadata": {},
     "output_type": "execute_result"
    }
   ],
   "source": [
    "# Initialize an empty list to store the resulting strings.\n",
    "nicknames = []\n",
    "\n",
    "# Loop through the range of 3, which corresponds to the number of elements in each sublist.\n",
    "for items in range(3):\n",
    "    # Access the string in the third sublist at the current index, capitalize it,\n",
    "    # and concatenate it with a message and the sum of the corresponding elements\n",
    "    # from the first two sublists.\n",
    "    gear = wade[2][items].capitalize() + \" :These are the names that Dwyane Wade has: \" + str(wade[0][items] + wade[1][items]) \n",
    "    # Append the resulting string to the nicknames list.\n",
    "    nicknames.append(gear)\n",
    "\n",
    "# Output the final list of nicknames.\n",
    "nicknames\n"
   ]
  },
  {
   "cell_type": "code",
   "execution_count": 9,
   "id": "0a1e7ef1-2f85-4d1b-b3ed-d9f91b14efbe",
   "metadata": {},
   "outputs": [
    {
     "name": "stdout",
     "output_type": "stream",
     "text": [
      "1 * 1 = 1\n",
      "2 * 2 = 4\n",
      "3 * 3 = 9\n",
      "4 * 4 = 16\n",
      "5 * 5 = 25\n",
      "6 * 6 = 36\n",
      "7 * 7 = 49\n",
      "8 * 8 = 64\n"
     ]
    }
   ],
   "source": [
    "#Multiplication in for LOOP\n",
    "\n",
    "for x in range(1, 9):\n",
    "    print(\"{} * {} = {}\".format(x, x,(x * x)))"
   ]
  },
  {
   "cell_type": "code",
   "execution_count": 10,
   "id": "59e66c67-8508-4719-9c05-18186cb41eff",
   "metadata": {},
   "outputs": [
    {
     "name": "stdout",
     "output_type": "stream",
     "text": [
      "1 + 1 = 2\n",
      "2 + 2 = 4\n",
      "3 + 3 = 6\n",
      "4 + 4 = 8\n",
      "5 + 5 = 10\n",
      "6 + 6 = 12\n",
      "7 + 7 = 14\n",
      "8 + 8 = 16\n",
      "9 + 9 = 18\n",
      "10 + 10 = 20\n"
     ]
    }
   ],
   "source": [
    "#Addition in for LOOP\n",
    "\n",
    "for best in range (1 ,11):\n",
    "    print(\"{} + {} = {}\".format(best, best,(best + best)))"
   ]
  },
  {
   "cell_type": "code",
   "execution_count": 11,
   "id": "1dbd6c53-8c11-4cb6-bfbc-86a686cd00d8",
   "metadata": {},
   "outputs": [
    {
     "name": "stdout",
     "output_type": "stream",
     "text": [
      "1 + 1 = 2\n",
      "2 + 2 = 4\n",
      "3 + 3 = 6\n",
      "4 + 4 = 8\n",
      "5 + 5 = 10\n",
      "6 + 6 = 12\n",
      "7 + 7 = 14\n",
      "8 + 8 = 16\n",
      "9 + 9 = 18\n",
      "10 + 10 = 20\n"
     ]
    }
   ],
   "source": [
    "#cCan also use %D or %f if the expected output is float\n",
    "\n",
    "for best in range (1 ,11):\n",
    "    print(\"%d + %d = %d\" % (best, best,(best + best)))\n"
   ]
  },
  {
   "cell_type": "code",
   "execution_count": 14,
   "id": "ace45b14-2123-4220-97c6-29ead58e5958",
   "metadata": {},
   "outputs": [
    {
     "name": "stdout",
     "output_type": "stream",
     "text": [
      "20 30 40\n",
      "boy girl boyish\n",
      "50 60 70\n"
     ]
    }
   ],
   "source": [
    "tupple1 = ((20, 30, 40), (\"boy\", \"girl\", \"boyish\"), (50, 60, 70))\n",
    "#tupple unpacking \n",
    "for tup, ple, one in tupple1:\n",
    "    print(tup, ple, one)    "
   ]
  },
  {
   "cell_type": "code",
   "execution_count": 3,
   "id": "5c361ab2",
   "metadata": {},
   "outputs": [
    {
     "name": "stdout",
     "output_type": "stream",
     "text": [
      "20 30\n",
      "boy girl\n",
      "50 60\n"
     ]
    }
   ],
   "source": [
    "tupple1 = ((20, 30), (\"boy\", \"girl\"), (50, 60))\n",
    "#tupple unpacking \n",
    "for tup, ple in tupple1:\n",
    "    print(tup, ple)"
   ]
  },
  {
   "cell_type": "code",
   "execution_count": 5,
   "id": "dce4f0b4-bff3-4ca0-bf56-f06f108f1b90",
   "metadata": {},
   "outputs": [
    {
     "name": "stdout",
     "output_type": "stream",
     "text": [
      "(20, 30, 40)\n",
      "('boy', 'girl', 'boyish')\n",
      "(50, 60, 70)\n"
     ]
    }
   ],
   "source": [
    "tupple1 = ((20, 30, 40), (\"boy\", \"girl\", \"boyish\"), (50, 60, 70))\n",
    "\n",
    "for tup in tupple1: # With one variable declared, it will result in printing each nested tuple\n",
    "    print(tup)                  "
   ]
  },
  {
   "cell_type": "code",
   "execution_count": 10,
   "id": "6e4da43e",
   "metadata": {},
   "outputs": [
    {
     "name": "stdout",
     "output_type": "stream",
     "text": [
      "(20, 30, 40)\n",
      "('boy', 'girl', 'boyish')\n",
      "(50, 60, 70)\n",
      "(20, 30, 40)\n",
      "('boy', 'girl', 'boyish')\n",
      "(50, 60, 70)\n"
     ]
    }
   ],
   "source": [
    "tupple1 = ((20, 30, 40), (\"boy\", \"girl\", \"boyish\"), (50, 60, 70))\n",
    "\n",
    "#This is called nested for LOOP\n",
    "for i in range(2): #it will given the output two times because of the range\n",
    "    for tup in tupple1: # With one variable declared, it will result in printing each nested tuple\n",
    "        print(tup)"
   ]
  },
  {
   "cell_type": "code",
   "execution_count": 12,
   "id": "5f94d216",
   "metadata": {},
   "outputs": [
    {
     "data": {
      "text/plain": [
       "{'num1': ('blue', 'red', 'green'), 'num2': [1, 2, 3, 4, 5]}"
      ]
     },
     "execution_count": 12,
     "metadata": {},
     "output_type": "execute_result"
    }
   ],
   "source": [
    "#Using dictionaries' list\n",
    "\n",
    "color = [\"blue\", \"red\", \"green\"]\n",
    "\n",
    "mixed = {\"num1\": tuple(color), \"num2\":[1, 2, 3, 4, 5]} #converting the color into tuple\n",
    "\n",
    "mixed"
   ]
  },
  {
   "cell_type": "code",
   "execution_count": 17,
   "id": "81995526",
   "metadata": {},
   "outputs": [
    {
     "name": "stdout",
     "output_type": "stream",
     "text": [
      "blue\n",
      "red\n",
      "green\n"
     ]
    }
   ],
   "source": [
    "#for LOOP using dictionaries\n",
    "\n",
    "for specified in mixed[\"num1\"]:\n",
    "    print(specified)"
   ]
  },
  {
   "cell_type": "code",
   "execution_count": 24,
   "id": "c6deae60",
   "metadata": {},
   "outputs": [
    {
     "name": "stdout",
     "output_type": "stream",
     "text": [
      "num1 : blue\n",
      "num1 : red\n",
      "num1 : green\n",
      "num2 : 1\n",
      "num2 : 2\n",
      "num2 : 3\n"
     ]
    }
   ],
   "source": [
    "heat = [\"Butler\", \"Adebayo\", \"Herro\"]  # list\n",
    "celtics = (\"Tatum\", \"Brown\", \"Porzingis\")  # tuple\n",
    "\n",
    "# Using nested loops to print combinations\n",
    "for i in range(len(heat)):  # Loop through the indices of heat\n",
    "    print(\"heat:\", heat[i])  # Print heat players\n",
    "    \n",
    "for j in range(len(celtics)):  # Loop through the indices of celtics\n",
    "    print(\"celtics:\", celtics[j])  # Print celtics players\n",
    "    \n",
    "for num in range(len(all[\"numbers\"][:3])):  # Loop through the first 3 elements of numbers\n",
    "    print(\"numbers:\", all[\"numbers\"][num])  # Print numbers\n",
    "#using nested for LOOP\n",
    "for real in mixed:\n",
    "    for length in range(3):\n",
    "        print(real, \":\", mixed[real][length])"
   ]
  },
  {
   "cell_type": "code",
   "execution_count": 42,
   "id": "8a0ea4ca",
   "metadata": {},
   "outputs": [
    {
     "name": "stdout",
     "output_type": "stream",
     "text": [
      "heat: Butler\n",
      "heat: Adebayo\n",
      "heat: Herro\n",
      "celtics: Tatum\n",
      "celtics: Brown\n",
      "celtics: Porzingis\n",
      "numbers: 21\n",
      "numbers: 7\n",
      "numbers: 11\n"
     ]
    }
   ],
   "source": [
    "heat = [\"Butler\", \"Adebayo\", \"Herro\"]  # list\n",
    "celtics = (\"Tatum\", \"Brown\", \"Porzingis\")  # tuple\n",
    "\n",
    "# Using nested loops to print combinations\n",
    "for i in range(len(heat)):  # Loop through the indices of heat\n",
    "    print(\"heat:\", heat[i])  # Print heat players\n",
    "    \n",
    "for j in range(len(celtics)):  # Loop through the indices of celtics\n",
    "    print(\"celtics:\", celtics[j])  # Print celtics players\n",
    "    \n",
    "for num in range(len(all[\"numbers\"][:3])):  # Loop through the first 3 elements of numbers\n",
    "    print(\"numbers:\", all[\"numbers\"][num])  # Print numbers\n"
   ]
  },
  {
   "cell_type": "code",
   "execution_count": 46,
   "id": "95595ab5",
   "metadata": {},
   "outputs": [
    {
     "name": "stdout",
     "output_type": "stream",
     "text": [
      "Tatum \n",
      " OVL \n",
      " VERY GOOD\n",
      "Brown \n",
      " OVL \n",
      " GOOD\n",
      "Porzingis \n",
      " OVL \n",
      " MODERATE\n"
     ]
    }
   ],
   "source": [
    "celtics\n",
    "rating = [\"Very Good\", \"Good\", \"Moderate\"]\n",
    "\n",
    "for grade in range(3):\n",
    "    print(celtics[grade].capitalize(), \"\\n OVL \\n\", rating[grade].upper())"
   ]
  },
  {
   "cell_type": "code",
   "execution_count": null,
   "id": "5b6dec10",
   "metadata": {},
   "outputs": [],
   "source": []
  }
 ],
 "metadata": {
  "kernelspec": {
   "display_name": "Python 3 (ipykernel)",
   "language": "python",
   "name": "python3"
  },
  "language_info": {
   "codemirror_mode": {
    "name": "ipython",
    "version": 3
   },
   "file_extension": ".py",
   "mimetype": "text/x-python",
   "name": "python",
   "nbconvert_exporter": "python",
   "pygments_lexer": "ipython3",
   "version": "3.11.5"
  }
 },
 "nbformat": 4,
 "nbformat_minor": 5
}
