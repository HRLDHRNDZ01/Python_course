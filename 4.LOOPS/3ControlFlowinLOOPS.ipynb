{
 "cells": [
  {
   "cell_type": "code",
   "execution_count": 5,
   "id": "3c5f1ef6-60ea-4cbb-8da5-1b689443ec87",
   "metadata": {},
   "outputs": [
    {
     "name": "stdout",
     "output_type": "stream",
     "text": [
      "10  is even number!\n",
      "11  is odd number!\n",
      "12  is even number!\n",
      "13  is odd number!\n",
      "14  is even number!\n",
      "15  is odd number!\n",
      "16  is even number!\n",
      "17  is odd number!\n",
      "18  is even number!\n",
      "19  is odd number!\n",
      "20  is even number!\n"
     ]
    }
   ],
   "source": [
    "# This is a `for` loop that iterates over numbers from 10 to 20\n",
    "for number in range(10 ,21):\n",
    "    if number % 2 == 0:\n",
    "        print(number, \" is even number!\")\n",
    "    else:\n",
    "        print(number, \" is odd number!\")"
   ]
  },
  {
   "cell_type": "code",
   "execution_count": 6,
   "id": "8f3a96d0-8d53-4fc5-bfba-ec42f308a58d",
   "metadata": {},
   "outputs": [
    {
     "name": "stdout",
     "output_type": "stream",
     "text": [
      " Heat wins game  1\n",
      "Lakers wins game  2\n",
      " Heat wins game  3\n",
      "Lakers wins game  4\n",
      " Heat wins game  5\n",
      " Heat wins game  6\n",
      "Game 7 if necessary!\n"
     ]
    }
   ],
   "source": [
    "# This is a `for` loop that iterates over numbers from 0 to 7\n",
    "for games in range(8):\n",
    "    if games == 0:\n",
    "        pass\n",
    "  \n",
    "    elif games in {2,4}: \n",
    "        print(\"Lakers wins game \", games) \n",
    "        \n",
    "\n",
    "    elif games in {1,3,5,6}:\n",
    "        print(\" Heat wins game \", games)\n",
    "        \n",
    "    else:\n",
    "        print(\"Game {} if necessary!\".format(games))\n",
    "    "
   ]
  },
  {
   "cell_type": "code",
   "execution_count": 7,
   "id": "5273242c-7629-4185-9a62-e29a971a1af6",
   "metadata": {},
   "outputs": [
    {
     "name": "stdout",
     "output_type": "stream",
     "text": [
      "Neutral!\n",
      "Neutral!\n",
      "Neutral!\n",
      "Neutral!\n",
      "Neutral!\n",
      "Clean and green\n",
      "Neutral!\n",
      "Neutral!\n",
      "Neutral!\n",
      "Neutral!\n",
      "So dirty!\n"
     ]
    }
   ],
   "source": [
    "# This is a `while` loop that continues as long as `broom` is less than 10\n",
    "broom = 0\n",
    "\n",
    "while broom < 10:\n",
    "    if broom == 5:\n",
    "        print(\"Clean and green\")\n",
    "\n",
    "    if broom > 8:\n",
    "        print(\"So dirty!\")\n",
    "\n",
    "    else:\n",
    "        print(\"Neutral!\")\n",
    "\n",
    "    broom +=1"
   ]
  },
  {
   "cell_type": "code",
   "execution_count": 8,
   "id": "d2855cb4-7131-4609-bfb7-08a5c0856f07",
   "metadata": {},
   "outputs": [
    {
     "name": "stdout",
     "output_type": "stream",
     "text": [
      "Neutral!\n",
      "Neutral!\n",
      "Neutral!\n",
      "Neutral!\n",
      "Neutral!\n",
      "Clean and green!\n",
      "Neutral!\n",
      "Neutral!\n",
      "Neutral!\n",
      "So dirty!\n"
     ]
    }
   ],
   "source": [
    "# This is a simple `for` loop that iterates over a range of numbers from 0 to 9\n",
    "for hey in range(10):\n",
    "    if hey == 5:\n",
    "        print(\"Clean and green!\")\n",
    "\n",
    "    elif hey > 8:\n",
    "        print(\"So dirty!\")\n",
    "\n",
    "    else:\n",
    "        print(\"Neutral!\")"
   ]
  },
  {
   "cell_type": "code",
   "execution_count": 9,
   "id": "08965623-e093-4c88-bf51-4a964ec25db8",
   "metadata": {},
   "outputs": [
    {
     "name": "stdout",
     "output_type": "stream",
     "text": [
      "Advantage\n",
      "Less\n",
      "Advantage\n",
      "Less\n",
      "Advantage\n",
      "Equal\n"
     ]
    }
   ],
   "source": [
    "#it is a nested loop structure because it iterates over elements of two lists and performs comparisons between corresponding elements of the lists.\n",
    "even = [2, 3, 6, 7, 10, 11]\n",
    "odd = [1, 4, 5, 8, 9, 11]\n",
    "\n",
    "root = 0\n",
    "\n",
    "while root < len(even):\n",
    "    if even[root] == odd[root]:\n",
    "        print(\"Equal\")\n",
    "\n",
    "    elif even[root] > odd[root]:\n",
    "        print(\"Advantage\")\n",
    "\n",
    "    else:\n",
    "        print(\"Less\")\n",
    "    root +=1"
   ]
  },
  {
   "cell_type": "code",
   "execution_count": 13,
   "id": "e668a81d-7c4b-48a8-894a-2d902f2637f3",
   "metadata": {},
   "outputs": [
    {
     "name": "stdout",
     "output_type": "stream",
     "text": [
      "Advantage\n",
      "Less\n",
      "Advantage\n",
      "Less\n",
      "Advantage\n",
      "Equal\n"
     ]
    }
   ],
   "source": [
    "# a coverted nested loop into for loop example above\n",
    "for root in range(len(even)):\n",
    "    \n",
    "        if even[root] == odd[root]:\n",
    "            print(\"Equal\")\n",
    "    \n",
    "        elif even[root] > odd[root]:\n",
    "            print(\"Advantage\")\n",
    "    \n",
    "        else:\n",
    "            print(\"Less\")\n",
    "        root +=1"
   ]
  },
  {
   "cell_type": "code",
   "execution_count": null,
   "id": "62285d06-a19f-4a61-b183-aa3812c409f2",
   "metadata": {},
   "outputs": [],
   "source": []
  }
 ],
 "metadata": {
  "kernelspec": {
   "display_name": "Python 3 (ipykernel)",
   "language": "python",
   "name": "python3"
  },
  "language_info": {
   "codemirror_mode": {
    "name": "ipython",
    "version": 3
   },
   "file_extension": ".py",
   "mimetype": "text/x-python",
   "name": "python",
   "nbconvert_exporter": "python",
   "pygments_lexer": "ipython3",
   "version": "3.11.5"
  }
 },
 "nbformat": 4,
 "nbformat_minor": 5
}
