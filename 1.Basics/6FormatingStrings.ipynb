{
 "cells": [
  {
   "cell_type": "code",
   "execution_count": 117,
   "metadata": {},
   "outputs": [
    {
     "name": "stdout",
     "output_type": "stream",
     "text": [
      "His name is Harold  Hernandez with a measure of 176cm\n"
     ]
    }
   ],
   "source": [
    "name = \"Harold  Hernandez\"\n",
    "height = \"176cm\"\n",
    "\n",
    "print(\"His name is {} with a measure of {}\".format(name, height))\n"
   ]
  },
  {
   "cell_type": "code",
   "execution_count": 118,
   "metadata": {},
   "outputs": [
    {
     "data": {
      "text/plain": [
       "'The technologies to be used in this web development project are HTML,javascript, and Css'"
      ]
     },
     "execution_count": 118,
     "metadata": {},
     "output_type": "execute_result"
    }
   ],
   "source": [
    "frontend = [\"html\", \"JavaScript\", \"CSS\"]\n",
    "project = \"The technologies to be used in this web development project are {},{}, and {}\"\n",
    "\n",
    "project.format(frontend[0].upper(), frontend[1].lower(), frontend[2].capitalize())"
   ]
  },
  {
   "cell_type": "code",
   "execution_count": 119,
   "metadata": {},
   "outputs": [
    {
     "data": {
      "text/plain": [
       "'The technologies to be used in this web development project are html,JavaScript, and CSS'"
      ]
     },
     "execution_count": 119,
     "metadata": {},
     "output_type": "execute_result"
    }
   ],
   "source": [
    "project.format(*frontend)"
   ]
  },
  {
   "cell_type": "code",
   "execution_count": 120,
   "metadata": {},
   "outputs": [
    {
     "data": {
      "text/plain": [
       "0"
      ]
     },
     "execution_count": 120,
     "metadata": {},
     "output_type": "execute_result"
    }
   ],
   "source": [
    "numbers = [20,40,60]\n",
    "\n",
    "eval(\"{} + {} - {}\".format(*numbers)) #used eval function to make the oprations work"
   ]
  },
  {
   "cell_type": "code",
   "execution_count": 121,
   "metadata": {},
   "outputs": [
    {
     "name": "stdout",
     "output_type": "stream",
     "text": [
      " The final result of computation is 2000!\n"
     ]
    }
   ],
   "source": [
    "total = \"3000\"\n",
    "\n",
    "result = int(total) - int(\"1000\")\n",
    "\n",
    "final_result = \" The final result of computation is {}!\".format(result)\n",
    "\n",
    "print(final_result)\n"
   ]
  },
  {
   "cell_type": "code",
   "execution_count": 122,
   "metadata": {},
   "outputs": [
    {
     "name": "stdout",
     "output_type": "stream",
     "text": [
      "500\n"
     ]
    }
   ],
   "source": [
    "number = \"1000\"\n",
    "\n",
    "answer = (eval (number) - 500)\n",
    "\n",
    "print(answer)"
   ]
  },
  {
   "cell_type": "code",
   "execution_count": 123,
   "metadata": {},
   "outputs": [
    {
     "data": {
      "text/plain": [
       "60"
      ]
     },
     "execution_count": 123,
     "metadata": {},
     "output_type": "execute_result"
    }
   ],
   "source": [
    "#put 0 in placeholder to make all it's value into 20\n",
    "numbers = [20, 40, 60]\n",
    "\n",
    "eval(\"{0} + {0} + {0}\".format(*numbers)) #eval(\"{0} + {0} + {0}\".format(numbers[0],numbers[0],numbers[0])) - this is an option too"
   ]
  },
  {
   "cell_type": "code",
   "execution_count": 124,
   "metadata": {},
   "outputs": [
    {
     "data": {
      "text/plain": [
       "'5 * 2 = 2.50'"
      ]
     },
     "execution_count": 124,
     "metadata": {},
     "output_type": "execute_result"
    }
   ],
   "source": [
    "\"%d * %d = %.2f\" % (5,2,(5/2))  \n",
    "# .2f to format the floating-point number into two decimal(.1f,.3f, etc.)"
   ]
  },
  {
   "cell_type": "code",
   "execution_count": 125,
   "metadata": {},
   "outputs": [
    {
     "data": {
      "text/plain": [
       "'The length of this word miami heat is 10!'"
      ]
     },
     "execution_count": 125,
     "metadata": {},
     "output_type": "execute_result"
    }
   ],
   "source": [
    "team = \"miami heat\"\n",
    "\n",
    "\"The length of this word {} is {}!\".format(team, len(team))"
   ]
  },
  {
   "cell_type": "code",
   "execution_count": 126,
   "metadata": {},
   "outputs": [
    {
     "data": {
      "text/plain": [
       "'my final grade is  1.50'"
      ]
     },
     "execution_count": 126,
     "metadata": {},
     "output_type": "execute_result"
    }
   ],
   "source": [
    "#\"this {} team has alreay won {titles: } titles since they joined the NBA\".format(team).format(titles = 9/3)\n",
    "\n",
    "\"my final grade is {num: .2f}\".format(num =  3/2)"
   ]
  },
  {
   "cell_type": "code",
   "execution_count": 130,
   "metadata": {},
   "outputs": [
    {
     "name": "stdout",
     "output_type": "stream",
     "text": [
      "THIS MIAMI HEAT TEAM HAS ALREADY WON 3 TITLES SINCE THEY JOINED THE NBA\n"
     ]
    }
   ],
   "source": [
    "titles = 9 / 3  # Calculate the number of titles\n",
    "\n",
    "# Format the string with placeholders and integer formatting\n",
    "formatted_string = \"This {} team has already won {} titles since they joined the NBA\"\\\n",
    ".format(team, int(titles))\n",
    "#can use the \\ for line continuation if gonna use another line after using the format   \n",
    "\n",
    "print(formatted_string.upper())\n"
   ]
  },
  {
   "cell_type": "code",
   "execution_count": 132,
   "metadata": {},
   "outputs": [
    {
     "data": {
      "text/plain": [
       "'If you know how to use Python, you can either become a Data Analyst or Data Scientist someday'"
      ]
     },
     "execution_count": 132,
     "metadata": {},
     "output_type": "execute_result"
    }
   ],
   "source": [
    "s1 = \"Data Analyst\"; s2 = \"Data Scientist\"; s3 = \"Python\"\n",
    "f\"\"\"If you know how to use {s3}, you can either become a {s1} or {s2} someday!\"\"\""
   ]
  }
 ],
 "metadata": {
  "kernelspec": {
   "display_name": "Python 3",
   "language": "python",
   "name": "python3"
  },
  "language_info": {
   "codemirror_mode": {
    "name": "ipython",
    "version": 3
   },
   "file_extension": ".py",
   "mimetype": "text/x-python",
   "name": "python",
   "nbconvert_exporter": "python",
   "pygments_lexer": "ipython3",
   "version": "3.11.5"
  }
 },
 "nbformat": 4,
 "nbformat_minor": 2
}
